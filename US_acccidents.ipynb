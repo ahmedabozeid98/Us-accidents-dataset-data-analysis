{
 "cells": [
  {
   "cell_type": "markdown",
   "metadata": {},
   "source": [
    "# US Accidents exploratory Data Analysis"
   ]
  },
  {
   "cell_type": "code",
   "execution_count": 1,
   "metadata": {},
   "outputs": [],
   "source": [
    "# --data source: Kaggle\n",
    "# This data analysis could be used to decrease the amount of accidents and more info  about accidents to decrease the reasons"
   ]
  },
  {
   "cell_type": "code",
   "execution_count": 2,
   "metadata": {},
   "outputs": [],
   "source": [
    "import pandas as pd\n",
    "import numpy as np\n",
    "\n"
   ]
  },
  {
   "cell_type": "code",
   "execution_count": 3,
   "metadata": {},
   "outputs": [],
   "source": [
    "us_accidentsdata = pd.read_csv(r'E:\\Us_accidentsproj\\US_Accidents_Dec21_updated.csv')"
   ]
  },
  {
   "cell_type": "code",
   "execution_count": 4,
   "metadata": {},
   "outputs": [
    {
     "data": {
      "text/html": [
       "<div>\n",
       "<style scoped>\n",
       "    .dataframe tbody tr th:only-of-type {\n",
       "        vertical-align: middle;\n",
       "    }\n",
       "\n",
       "    .dataframe tbody tr th {\n",
       "        vertical-align: top;\n",
       "    }\n",
       "\n",
       "    .dataframe thead th {\n",
       "        text-align: right;\n",
       "    }\n",
       "</style>\n",
       "<table border=\"1\" class=\"dataframe\">\n",
       "  <thead>\n",
       "    <tr style=\"text-align: right;\">\n",
       "      <th></th>\n",
       "      <th>ID</th>\n",
       "      <th>Severity</th>\n",
       "      <th>Start_Time</th>\n",
       "      <th>End_Time</th>\n",
       "      <th>Start_Lat</th>\n",
       "      <th>Start_Lng</th>\n",
       "      <th>End_Lat</th>\n",
       "      <th>End_Lng</th>\n",
       "      <th>Distance(mi)</th>\n",
       "      <th>Description</th>\n",
       "      <th>...</th>\n",
       "      <th>Roundabout</th>\n",
       "      <th>Station</th>\n",
       "      <th>Stop</th>\n",
       "      <th>Traffic_Calming</th>\n",
       "      <th>Traffic_Signal</th>\n",
       "      <th>Turning_Loop</th>\n",
       "      <th>Sunrise_Sunset</th>\n",
       "      <th>Civil_Twilight</th>\n",
       "      <th>Nautical_Twilight</th>\n",
       "      <th>Astronomical_Twilight</th>\n",
       "    </tr>\n",
       "  </thead>\n",
       "  <tbody>\n",
       "    <tr>\n",
       "      <th>0</th>\n",
       "      <td>A-1</td>\n",
       "      <td>3</td>\n",
       "      <td>2016-02-08 00:37:08</td>\n",
       "      <td>2016-02-08 06:37:08</td>\n",
       "      <td>40.108910</td>\n",
       "      <td>-83.092860</td>\n",
       "      <td>40.112060</td>\n",
       "      <td>-83.031870</td>\n",
       "      <td>3.230</td>\n",
       "      <td>Between Sawmill Rd/Exit 20 and OH-315/Olentang...</td>\n",
       "      <td>...</td>\n",
       "      <td>False</td>\n",
       "      <td>False</td>\n",
       "      <td>False</td>\n",
       "      <td>False</td>\n",
       "      <td>False</td>\n",
       "      <td>False</td>\n",
       "      <td>Night</td>\n",
       "      <td>Night</td>\n",
       "      <td>Night</td>\n",
       "      <td>Night</td>\n",
       "    </tr>\n",
       "    <tr>\n",
       "      <th>1</th>\n",
       "      <td>A-2</td>\n",
       "      <td>2</td>\n",
       "      <td>2016-02-08 05:56:20</td>\n",
       "      <td>2016-02-08 11:56:20</td>\n",
       "      <td>39.865420</td>\n",
       "      <td>-84.062800</td>\n",
       "      <td>39.865010</td>\n",
       "      <td>-84.048730</td>\n",
       "      <td>0.747</td>\n",
       "      <td>At OH-4/OH-235/Exit 41 - Accident.</td>\n",
       "      <td>...</td>\n",
       "      <td>False</td>\n",
       "      <td>False</td>\n",
       "      <td>False</td>\n",
       "      <td>False</td>\n",
       "      <td>False</td>\n",
       "      <td>False</td>\n",
       "      <td>Night</td>\n",
       "      <td>Night</td>\n",
       "      <td>Night</td>\n",
       "      <td>Night</td>\n",
       "    </tr>\n",
       "    <tr>\n",
       "      <th>2</th>\n",
       "      <td>A-3</td>\n",
       "      <td>2</td>\n",
       "      <td>2016-02-08 06:15:39</td>\n",
       "      <td>2016-02-08 12:15:39</td>\n",
       "      <td>39.102660</td>\n",
       "      <td>-84.524680</td>\n",
       "      <td>39.102090</td>\n",
       "      <td>-84.523960</td>\n",
       "      <td>0.055</td>\n",
       "      <td>At I-71/US-50/Exit 1 - Accident.</td>\n",
       "      <td>...</td>\n",
       "      <td>False</td>\n",
       "      <td>False</td>\n",
       "      <td>False</td>\n",
       "      <td>False</td>\n",
       "      <td>False</td>\n",
       "      <td>False</td>\n",
       "      <td>Night</td>\n",
       "      <td>Night</td>\n",
       "      <td>Night</td>\n",
       "      <td>Day</td>\n",
       "    </tr>\n",
       "    <tr>\n",
       "      <th>3</th>\n",
       "      <td>A-4</td>\n",
       "      <td>2</td>\n",
       "      <td>2016-02-08 06:51:45</td>\n",
       "      <td>2016-02-08 12:51:45</td>\n",
       "      <td>41.062130</td>\n",
       "      <td>-81.537840</td>\n",
       "      <td>41.062170</td>\n",
       "      <td>-81.535470</td>\n",
       "      <td>0.123</td>\n",
       "      <td>At Dart Ave/Exit 21 - Accident.</td>\n",
       "      <td>...</td>\n",
       "      <td>False</td>\n",
       "      <td>False</td>\n",
       "      <td>False</td>\n",
       "      <td>False</td>\n",
       "      <td>False</td>\n",
       "      <td>False</td>\n",
       "      <td>Night</td>\n",
       "      <td>Night</td>\n",
       "      <td>Day</td>\n",
       "      <td>Day</td>\n",
       "    </tr>\n",
       "    <tr>\n",
       "      <th>4</th>\n",
       "      <td>A-5</td>\n",
       "      <td>3</td>\n",
       "      <td>2016-02-08 07:53:43</td>\n",
       "      <td>2016-02-08 13:53:43</td>\n",
       "      <td>39.172393</td>\n",
       "      <td>-84.492792</td>\n",
       "      <td>39.170476</td>\n",
       "      <td>-84.501798</td>\n",
       "      <td>0.500</td>\n",
       "      <td>At Mitchell Ave/Exit 6 - Accident.</td>\n",
       "      <td>...</td>\n",
       "      <td>False</td>\n",
       "      <td>False</td>\n",
       "      <td>False</td>\n",
       "      <td>False</td>\n",
       "      <td>False</td>\n",
       "      <td>False</td>\n",
       "      <td>Day</td>\n",
       "      <td>Day</td>\n",
       "      <td>Day</td>\n",
       "      <td>Day</td>\n",
       "    </tr>\n",
       "    <tr>\n",
       "      <th>...</th>\n",
       "      <td>...</td>\n",
       "      <td>...</td>\n",
       "      <td>...</td>\n",
       "      <td>...</td>\n",
       "      <td>...</td>\n",
       "      <td>...</td>\n",
       "      <td>...</td>\n",
       "      <td>...</td>\n",
       "      <td>...</td>\n",
       "      <td>...</td>\n",
       "      <td>...</td>\n",
       "      <td>...</td>\n",
       "      <td>...</td>\n",
       "      <td>...</td>\n",
       "      <td>...</td>\n",
       "      <td>...</td>\n",
       "      <td>...</td>\n",
       "      <td>...</td>\n",
       "      <td>...</td>\n",
       "      <td>...</td>\n",
       "      <td>...</td>\n",
       "    </tr>\n",
       "    <tr>\n",
       "      <th>2845337</th>\n",
       "      <td>A-2845338</td>\n",
       "      <td>2</td>\n",
       "      <td>2019-08-23 18:03:25</td>\n",
       "      <td>2019-08-23 18:32:01</td>\n",
       "      <td>34.002480</td>\n",
       "      <td>-117.379360</td>\n",
       "      <td>33.998880</td>\n",
       "      <td>-117.370940</td>\n",
       "      <td>0.543</td>\n",
       "      <td>At Market St - Accident.</td>\n",
       "      <td>...</td>\n",
       "      <td>False</td>\n",
       "      <td>False</td>\n",
       "      <td>False</td>\n",
       "      <td>False</td>\n",
       "      <td>False</td>\n",
       "      <td>False</td>\n",
       "      <td>Day</td>\n",
       "      <td>Day</td>\n",
       "      <td>Day</td>\n",
       "      <td>Day</td>\n",
       "    </tr>\n",
       "    <tr>\n",
       "      <th>2845338</th>\n",
       "      <td>A-2845339</td>\n",
       "      <td>2</td>\n",
       "      <td>2019-08-23 19:11:30</td>\n",
       "      <td>2019-08-23 19:38:23</td>\n",
       "      <td>32.766960</td>\n",
       "      <td>-117.148060</td>\n",
       "      <td>32.765550</td>\n",
       "      <td>-117.153630</td>\n",
       "      <td>0.338</td>\n",
       "      <td>At Camino Del Rio/Mission Center Rd - Accident.</td>\n",
       "      <td>...</td>\n",
       "      <td>False</td>\n",
       "      <td>False</td>\n",
       "      <td>False</td>\n",
       "      <td>False</td>\n",
       "      <td>False</td>\n",
       "      <td>False</td>\n",
       "      <td>Day</td>\n",
       "      <td>Day</td>\n",
       "      <td>Day</td>\n",
       "      <td>Day</td>\n",
       "    </tr>\n",
       "    <tr>\n",
       "      <th>2845339</th>\n",
       "      <td>A-2845340</td>\n",
       "      <td>2</td>\n",
       "      <td>2019-08-23 19:00:21</td>\n",
       "      <td>2019-08-23 19:28:49</td>\n",
       "      <td>33.775450</td>\n",
       "      <td>-117.847790</td>\n",
       "      <td>33.777400</td>\n",
       "      <td>-117.857270</td>\n",
       "      <td>0.561</td>\n",
       "      <td>At Glassell St/Grand Ave - Accident. in the ri...</td>\n",
       "      <td>...</td>\n",
       "      <td>False</td>\n",
       "      <td>False</td>\n",
       "      <td>False</td>\n",
       "      <td>False</td>\n",
       "      <td>False</td>\n",
       "      <td>False</td>\n",
       "      <td>Day</td>\n",
       "      <td>Day</td>\n",
       "      <td>Day</td>\n",
       "      <td>Day</td>\n",
       "    </tr>\n",
       "    <tr>\n",
       "      <th>2845340</th>\n",
       "      <td>A-2845341</td>\n",
       "      <td>2</td>\n",
       "      <td>2019-08-23 19:00:21</td>\n",
       "      <td>2019-08-23 19:29:42</td>\n",
       "      <td>33.992460</td>\n",
       "      <td>-118.403020</td>\n",
       "      <td>33.983110</td>\n",
       "      <td>-118.395650</td>\n",
       "      <td>0.772</td>\n",
       "      <td>At CA-90/Marina Fwy/Jefferson Blvd - Accident.</td>\n",
       "      <td>...</td>\n",
       "      <td>False</td>\n",
       "      <td>False</td>\n",
       "      <td>False</td>\n",
       "      <td>False</td>\n",
       "      <td>False</td>\n",
       "      <td>False</td>\n",
       "      <td>Day</td>\n",
       "      <td>Day</td>\n",
       "      <td>Day</td>\n",
       "      <td>Day</td>\n",
       "    </tr>\n",
       "    <tr>\n",
       "      <th>2845341</th>\n",
       "      <td>A-2845342</td>\n",
       "      <td>2</td>\n",
       "      <td>2019-08-23 18:52:06</td>\n",
       "      <td>2019-08-23 19:21:31</td>\n",
       "      <td>34.133930</td>\n",
       "      <td>-117.230920</td>\n",
       "      <td>34.137360</td>\n",
       "      <td>-117.239340</td>\n",
       "      <td>0.537</td>\n",
       "      <td>At Highland Ave/Arden Ave - Accident.</td>\n",
       "      <td>...</td>\n",
       "      <td>False</td>\n",
       "      <td>False</td>\n",
       "      <td>False</td>\n",
       "      <td>False</td>\n",
       "      <td>False</td>\n",
       "      <td>False</td>\n",
       "      <td>Day</td>\n",
       "      <td>Day</td>\n",
       "      <td>Day</td>\n",
       "      <td>Day</td>\n",
       "    </tr>\n",
       "  </tbody>\n",
       "</table>\n",
       "<p>2845342 rows × 47 columns</p>\n",
       "</div>"
      ],
      "text/plain": [
       "                ID  Severity           Start_Time             End_Time  \\\n",
       "0              A-1         3  2016-02-08 00:37:08  2016-02-08 06:37:08   \n",
       "1              A-2         2  2016-02-08 05:56:20  2016-02-08 11:56:20   \n",
       "2              A-3         2  2016-02-08 06:15:39  2016-02-08 12:15:39   \n",
       "3              A-4         2  2016-02-08 06:51:45  2016-02-08 12:51:45   \n",
       "4              A-5         3  2016-02-08 07:53:43  2016-02-08 13:53:43   \n",
       "...            ...       ...                  ...                  ...   \n",
       "2845337  A-2845338         2  2019-08-23 18:03:25  2019-08-23 18:32:01   \n",
       "2845338  A-2845339         2  2019-08-23 19:11:30  2019-08-23 19:38:23   \n",
       "2845339  A-2845340         2  2019-08-23 19:00:21  2019-08-23 19:28:49   \n",
       "2845340  A-2845341         2  2019-08-23 19:00:21  2019-08-23 19:29:42   \n",
       "2845341  A-2845342         2  2019-08-23 18:52:06  2019-08-23 19:21:31   \n",
       "\n",
       "         Start_Lat   Start_Lng    End_Lat     End_Lng  Distance(mi)  \\\n",
       "0        40.108910  -83.092860  40.112060  -83.031870         3.230   \n",
       "1        39.865420  -84.062800  39.865010  -84.048730         0.747   \n",
       "2        39.102660  -84.524680  39.102090  -84.523960         0.055   \n",
       "3        41.062130  -81.537840  41.062170  -81.535470         0.123   \n",
       "4        39.172393  -84.492792  39.170476  -84.501798         0.500   \n",
       "...            ...         ...        ...         ...           ...   \n",
       "2845337  34.002480 -117.379360  33.998880 -117.370940         0.543   \n",
       "2845338  32.766960 -117.148060  32.765550 -117.153630         0.338   \n",
       "2845339  33.775450 -117.847790  33.777400 -117.857270         0.561   \n",
       "2845340  33.992460 -118.403020  33.983110 -118.395650         0.772   \n",
       "2845341  34.133930 -117.230920  34.137360 -117.239340         0.537   \n",
       "\n",
       "                                               Description  ...  Roundabout  \\\n",
       "0        Between Sawmill Rd/Exit 20 and OH-315/Olentang...  ...       False   \n",
       "1                       At OH-4/OH-235/Exit 41 - Accident.  ...       False   \n",
       "2                         At I-71/US-50/Exit 1 - Accident.  ...       False   \n",
       "3                          At Dart Ave/Exit 21 - Accident.  ...       False   \n",
       "4                       At Mitchell Ave/Exit 6 - Accident.  ...       False   \n",
       "...                                                    ...  ...         ...   \n",
       "2845337                           At Market St - Accident.  ...       False   \n",
       "2845338    At Camino Del Rio/Mission Center Rd - Accident.  ...       False   \n",
       "2845339  At Glassell St/Grand Ave - Accident. in the ri...  ...       False   \n",
       "2845340     At CA-90/Marina Fwy/Jefferson Blvd - Accident.  ...       False   \n",
       "2845341              At Highland Ave/Arden Ave - Accident.  ...       False   \n",
       "\n",
       "        Station   Stop Traffic_Calming Traffic_Signal Turning_Loop  \\\n",
       "0         False  False           False          False        False   \n",
       "1         False  False           False          False        False   \n",
       "2         False  False           False          False        False   \n",
       "3         False  False           False          False        False   \n",
       "4         False  False           False          False        False   \n",
       "...         ...    ...             ...            ...          ...   \n",
       "2845337   False  False           False          False        False   \n",
       "2845338   False  False           False          False        False   \n",
       "2845339   False  False           False          False        False   \n",
       "2845340   False  False           False          False        False   \n",
       "2845341   False  False           False          False        False   \n",
       "\n",
       "        Sunrise_Sunset Civil_Twilight Nautical_Twilight Astronomical_Twilight  \n",
       "0                Night          Night             Night                 Night  \n",
       "1                Night          Night             Night                 Night  \n",
       "2                Night          Night             Night                   Day  \n",
       "3                Night          Night               Day                   Day  \n",
       "4                  Day            Day               Day                   Day  \n",
       "...                ...            ...               ...                   ...  \n",
       "2845337            Day            Day               Day                   Day  \n",
       "2845338            Day            Day               Day                   Day  \n",
       "2845339            Day            Day               Day                   Day  \n",
       "2845340            Day            Day               Day                   Day  \n",
       "2845341            Day            Day               Day                   Day  \n",
       "\n",
       "[2845342 rows x 47 columns]"
      ]
     },
     "execution_count": 4,
     "metadata": {},
     "output_type": "execute_result"
    }
   ],
   "source": [
    "us_accidentsdata"
   ]
  },
  {
   "cell_type": "markdown",
   "metadata": {},
   "source": [
    "# data preparation and cleaning"
   ]
  },
  {
   "cell_type": "code",
   "execution_count": 5,
   "metadata": {},
   "outputs": [
    {
     "data": {
      "text/plain": [
       "Index(['ID', 'Severity', 'Start_Time', 'End_Time', 'Start_Lat', 'Start_Lng',\n",
       "       'End_Lat', 'End_Lng', 'Distance(mi)', 'Description', 'Number', 'Street',\n",
       "       'Side', 'City', 'County', 'State', 'Zipcode', 'Country', 'Timezone',\n",
       "       'Airport_Code', 'Weather_Timestamp', 'Temperature(F)', 'Wind_Chill(F)',\n",
       "       'Humidity(%)', 'Pressure(in)', 'Visibility(mi)', 'Wind_Direction',\n",
       "       'Wind_Speed(mph)', 'Precipitation(in)', 'Weather_Condition', 'Amenity',\n",
       "       'Bump', 'Crossing', 'Give_Way', 'Junction', 'No_Exit', 'Railway',\n",
       "       'Roundabout', 'Station', 'Stop', 'Traffic_Calming', 'Traffic_Signal',\n",
       "       'Turning_Loop', 'Sunrise_Sunset', 'Civil_Twilight', 'Nautical_Twilight',\n",
       "       'Astronomical_Twilight'],\n",
       "      dtype='object')"
      ]
     },
     "execution_count": 5,
     "metadata": {},
     "output_type": "execute_result"
    }
   ],
   "source": [
    "us_accidentsdata.columns\n"
   ]
  },
  {
   "cell_type": "code",
   "execution_count": 6,
   "metadata": {},
   "outputs": [
    {
     "name": "stdout",
     "output_type": "stream",
     "text": [
      "<class 'pandas.core.frame.DataFrame'>\n",
      "RangeIndex: 2845342 entries, 0 to 2845341\n",
      "Data columns (total 47 columns):\n",
      " #   Column                 Dtype  \n",
      "---  ------                 -----  \n",
      " 0   ID                     object \n",
      " 1   Severity               int64  \n",
      " 2   Start_Time             object \n",
      " 3   End_Time               object \n",
      " 4   Start_Lat              float64\n",
      " 5   Start_Lng              float64\n",
      " 6   End_Lat                float64\n",
      " 7   End_Lng                float64\n",
      " 8   Distance(mi)           float64\n",
      " 9   Description            object \n",
      " 10  Number                 float64\n",
      " 11  Street                 object \n",
      " 12  Side                   object \n",
      " 13  City                   object \n",
      " 14  County                 object \n",
      " 15  State                  object \n",
      " 16  Zipcode                object \n",
      " 17  Country                object \n",
      " 18  Timezone               object \n",
      " 19  Airport_Code           object \n",
      " 20  Weather_Timestamp      object \n",
      " 21  Temperature(F)         float64\n",
      " 22  Wind_Chill(F)          float64\n",
      " 23  Humidity(%)            float64\n",
      " 24  Pressure(in)           float64\n",
      " 25  Visibility(mi)         float64\n",
      " 26  Wind_Direction         object \n",
      " 27  Wind_Speed(mph)        float64\n",
      " 28  Precipitation(in)      float64\n",
      " 29  Weather_Condition      object \n",
      " 30  Amenity                bool   \n",
      " 31  Bump                   bool   \n",
      " 32  Crossing               bool   \n",
      " 33  Give_Way               bool   \n",
      " 34  Junction               bool   \n",
      " 35  No_Exit                bool   \n",
      " 36  Railway                bool   \n",
      " 37  Roundabout             bool   \n",
      " 38  Station                bool   \n",
      " 39  Stop                   bool   \n",
      " 40  Traffic_Calming        bool   \n",
      " 41  Traffic_Signal         bool   \n",
      " 42  Turning_Loop           bool   \n",
      " 43  Sunrise_Sunset         object \n",
      " 44  Civil_Twilight         object \n",
      " 45  Nautical_Twilight      object \n",
      " 46  Astronomical_Twilight  object \n",
      "dtypes: bool(13), float64(13), int64(1), object(20)\n",
      "memory usage: 773.4+ MB\n"
     ]
    }
   ],
   "source": [
    "us_accidentsdata.info()"
   ]
  },
  {
   "cell_type": "code",
   "execution_count": 7,
   "metadata": {},
   "outputs": [
    {
     "data": {
      "text/html": [
       "<div>\n",
       "<style scoped>\n",
       "    .dataframe tbody tr th:only-of-type {\n",
       "        vertical-align: middle;\n",
       "    }\n",
       "\n",
       "    .dataframe tbody tr th {\n",
       "        vertical-align: top;\n",
       "    }\n",
       "\n",
       "    .dataframe thead th {\n",
       "        text-align: right;\n",
       "    }\n",
       "</style>\n",
       "<table border=\"1\" class=\"dataframe\">\n",
       "  <thead>\n",
       "    <tr style=\"text-align: right;\">\n",
       "      <th></th>\n",
       "      <th>Severity</th>\n",
       "      <th>Start_Lat</th>\n",
       "      <th>Start_Lng</th>\n",
       "      <th>End_Lat</th>\n",
       "      <th>End_Lng</th>\n",
       "      <th>Distance(mi)</th>\n",
       "      <th>Number</th>\n",
       "      <th>Temperature(F)</th>\n",
       "      <th>Wind_Chill(F)</th>\n",
       "      <th>Humidity(%)</th>\n",
       "      <th>Pressure(in)</th>\n",
       "      <th>Visibility(mi)</th>\n",
       "      <th>Wind_Speed(mph)</th>\n",
       "      <th>Precipitation(in)</th>\n",
       "    </tr>\n",
       "  </thead>\n",
       "  <tbody>\n",
       "    <tr>\n",
       "      <th>count</th>\n",
       "      <td>2.845342e+06</td>\n",
       "      <td>2.845342e+06</td>\n",
       "      <td>2.845342e+06</td>\n",
       "      <td>2.845342e+06</td>\n",
       "      <td>2.845342e+06</td>\n",
       "      <td>2.845342e+06</td>\n",
       "      <td>1.101431e+06</td>\n",
       "      <td>2.776068e+06</td>\n",
       "      <td>2.375699e+06</td>\n",
       "      <td>2.772250e+06</td>\n",
       "      <td>2.786142e+06</td>\n",
       "      <td>2.774796e+06</td>\n",
       "      <td>2.687398e+06</td>\n",
       "      <td>2.295884e+06</td>\n",
       "    </tr>\n",
       "    <tr>\n",
       "      <th>mean</th>\n",
       "      <td>2.137572e+00</td>\n",
       "      <td>3.624520e+01</td>\n",
       "      <td>-9.711463e+01</td>\n",
       "      <td>3.624532e+01</td>\n",
       "      <td>-9.711439e+01</td>\n",
       "      <td>7.026779e-01</td>\n",
       "      <td>8.089408e+03</td>\n",
       "      <td>6.179356e+01</td>\n",
       "      <td>5.965823e+01</td>\n",
       "      <td>6.436545e+01</td>\n",
       "      <td>2.947234e+01</td>\n",
       "      <td>9.099391e+00</td>\n",
       "      <td>7.395044e+00</td>\n",
       "      <td>7.016940e-03</td>\n",
       "    </tr>\n",
       "    <tr>\n",
       "      <th>std</th>\n",
       "      <td>4.787216e-01</td>\n",
       "      <td>5.363797e+00</td>\n",
       "      <td>1.831782e+01</td>\n",
       "      <td>5.363873e+00</td>\n",
       "      <td>1.831763e+01</td>\n",
       "      <td>1.560361e+00</td>\n",
       "      <td>1.836009e+04</td>\n",
       "      <td>1.862263e+01</td>\n",
       "      <td>2.116097e+01</td>\n",
       "      <td>2.287457e+01</td>\n",
       "      <td>1.045286e+00</td>\n",
       "      <td>2.717546e+00</td>\n",
       "      <td>5.527454e+00</td>\n",
       "      <td>9.348831e-02</td>\n",
       "    </tr>\n",
       "    <tr>\n",
       "      <th>min</th>\n",
       "      <td>1.000000e+00</td>\n",
       "      <td>2.456603e+01</td>\n",
       "      <td>-1.245481e+02</td>\n",
       "      <td>2.456601e+01</td>\n",
       "      <td>-1.245457e+02</td>\n",
       "      <td>0.000000e+00</td>\n",
       "      <td>0.000000e+00</td>\n",
       "      <td>-8.900000e+01</td>\n",
       "      <td>-8.900000e+01</td>\n",
       "      <td>1.000000e+00</td>\n",
       "      <td>0.000000e+00</td>\n",
       "      <td>0.000000e+00</td>\n",
       "      <td>0.000000e+00</td>\n",
       "      <td>0.000000e+00</td>\n",
       "    </tr>\n",
       "    <tr>\n",
       "      <th>25%</th>\n",
       "      <td>2.000000e+00</td>\n",
       "      <td>3.344517e+01</td>\n",
       "      <td>-1.180331e+02</td>\n",
       "      <td>3.344628e+01</td>\n",
       "      <td>-1.180333e+02</td>\n",
       "      <td>5.200000e-02</td>\n",
       "      <td>1.270000e+03</td>\n",
       "      <td>5.000000e+01</td>\n",
       "      <td>4.600000e+01</td>\n",
       "      <td>4.800000e+01</td>\n",
       "      <td>2.931000e+01</td>\n",
       "      <td>1.000000e+01</td>\n",
       "      <td>3.500000e+00</td>\n",
       "      <td>0.000000e+00</td>\n",
       "    </tr>\n",
       "    <tr>\n",
       "      <th>50%</th>\n",
       "      <td>2.000000e+00</td>\n",
       "      <td>3.609861e+01</td>\n",
       "      <td>-9.241808e+01</td>\n",
       "      <td>3.609799e+01</td>\n",
       "      <td>-9.241772e+01</td>\n",
       "      <td>2.440000e-01</td>\n",
       "      <td>4.007000e+03</td>\n",
       "      <td>6.400000e+01</td>\n",
       "      <td>6.300000e+01</td>\n",
       "      <td>6.700000e+01</td>\n",
       "      <td>2.982000e+01</td>\n",
       "      <td>1.000000e+01</td>\n",
       "      <td>7.000000e+00</td>\n",
       "      <td>0.000000e+00</td>\n",
       "    </tr>\n",
       "    <tr>\n",
       "      <th>75%</th>\n",
       "      <td>2.000000e+00</td>\n",
       "      <td>4.016024e+01</td>\n",
       "      <td>-8.037243e+01</td>\n",
       "      <td>4.016105e+01</td>\n",
       "      <td>-8.037338e+01</td>\n",
       "      <td>7.640000e-01</td>\n",
       "      <td>9.567000e+03</td>\n",
       "      <td>7.600000e+01</td>\n",
       "      <td>7.600000e+01</td>\n",
       "      <td>8.300000e+01</td>\n",
       "      <td>3.001000e+01</td>\n",
       "      <td>1.000000e+01</td>\n",
       "      <td>1.000000e+01</td>\n",
       "      <td>0.000000e+00</td>\n",
       "    </tr>\n",
       "    <tr>\n",
       "      <th>max</th>\n",
       "      <td>4.000000e+00</td>\n",
       "      <td>4.900058e+01</td>\n",
       "      <td>-6.711317e+01</td>\n",
       "      <td>4.907500e+01</td>\n",
       "      <td>-6.710924e+01</td>\n",
       "      <td>1.551860e+02</td>\n",
       "      <td>9.999997e+06</td>\n",
       "      <td>1.960000e+02</td>\n",
       "      <td>1.960000e+02</td>\n",
       "      <td>1.000000e+02</td>\n",
       "      <td>5.890000e+01</td>\n",
       "      <td>1.400000e+02</td>\n",
       "      <td>1.087000e+03</td>\n",
       "      <td>2.400000e+01</td>\n",
       "    </tr>\n",
       "  </tbody>\n",
       "</table>\n",
       "</div>"
      ],
      "text/plain": [
       "           Severity     Start_Lat     Start_Lng       End_Lat       End_Lng  \\\n",
       "count  2.845342e+06  2.845342e+06  2.845342e+06  2.845342e+06  2.845342e+06   \n",
       "mean   2.137572e+00  3.624520e+01 -9.711463e+01  3.624532e+01 -9.711439e+01   \n",
       "std    4.787216e-01  5.363797e+00  1.831782e+01  5.363873e+00  1.831763e+01   \n",
       "min    1.000000e+00  2.456603e+01 -1.245481e+02  2.456601e+01 -1.245457e+02   \n",
       "25%    2.000000e+00  3.344517e+01 -1.180331e+02  3.344628e+01 -1.180333e+02   \n",
       "50%    2.000000e+00  3.609861e+01 -9.241808e+01  3.609799e+01 -9.241772e+01   \n",
       "75%    2.000000e+00  4.016024e+01 -8.037243e+01  4.016105e+01 -8.037338e+01   \n",
       "max    4.000000e+00  4.900058e+01 -6.711317e+01  4.907500e+01 -6.710924e+01   \n",
       "\n",
       "       Distance(mi)        Number  Temperature(F)  Wind_Chill(F)  \\\n",
       "count  2.845342e+06  1.101431e+06    2.776068e+06   2.375699e+06   \n",
       "mean   7.026779e-01  8.089408e+03    6.179356e+01   5.965823e+01   \n",
       "std    1.560361e+00  1.836009e+04    1.862263e+01   2.116097e+01   \n",
       "min    0.000000e+00  0.000000e+00   -8.900000e+01  -8.900000e+01   \n",
       "25%    5.200000e-02  1.270000e+03    5.000000e+01   4.600000e+01   \n",
       "50%    2.440000e-01  4.007000e+03    6.400000e+01   6.300000e+01   \n",
       "75%    7.640000e-01  9.567000e+03    7.600000e+01   7.600000e+01   \n",
       "max    1.551860e+02  9.999997e+06    1.960000e+02   1.960000e+02   \n",
       "\n",
       "        Humidity(%)  Pressure(in)  Visibility(mi)  Wind_Speed(mph)  \\\n",
       "count  2.772250e+06  2.786142e+06    2.774796e+06     2.687398e+06   \n",
       "mean   6.436545e+01  2.947234e+01    9.099391e+00     7.395044e+00   \n",
       "std    2.287457e+01  1.045286e+00    2.717546e+00     5.527454e+00   \n",
       "min    1.000000e+00  0.000000e+00    0.000000e+00     0.000000e+00   \n",
       "25%    4.800000e+01  2.931000e+01    1.000000e+01     3.500000e+00   \n",
       "50%    6.700000e+01  2.982000e+01    1.000000e+01     7.000000e+00   \n",
       "75%    8.300000e+01  3.001000e+01    1.000000e+01     1.000000e+01   \n",
       "max    1.000000e+02  5.890000e+01    1.400000e+02     1.087000e+03   \n",
       "\n",
       "       Precipitation(in)  \n",
       "count       2.295884e+06  \n",
       "mean        7.016940e-03  \n",
       "std         9.348831e-02  \n",
       "min         0.000000e+00  \n",
       "25%         0.000000e+00  \n",
       "50%         0.000000e+00  \n",
       "75%         0.000000e+00  \n",
       "max         2.400000e+01  "
      ]
     },
     "execution_count": 7,
     "metadata": {},
     "output_type": "execute_result"
    }
   ],
   "source": [
    "us_accidentsdata.describe()"
   ]
  },
  {
   "cell_type": "code",
   "execution_count": 8,
   "metadata": {},
   "outputs": [],
   "source": [
    "# questions to analyze :\n",
    "# are more accidents occured in a cold temp or in a warm temp?\n",
    "# does wind speed have an effect on accidents?\n",
    "#does pressure have an effect on accidents?\n",
    "# which cities have the most accidents in the US?"
   ]
  },
  {
   "cell_type": "code",
   "execution_count": 9,
   "metadata": {},
   "outputs": [
    {
     "data": {
      "text/plain": [
       "Number                   6.129003e-01\n",
       "Precipitation(in)        1.931079e-01\n",
       "Wind_Chill(F)            1.650568e-01\n",
       "Wind_Speed(mph)          5.550967e-02\n",
       "Wind_Direction           2.592834e-02\n",
       "Humidity(%)              2.568830e-02\n",
       "Weather_Condition        2.482514e-02\n",
       "Visibility(mi)           2.479350e-02\n",
       "Temperature(F)           2.434646e-02\n",
       "Pressure(in)             2.080593e-02\n",
       "Weather_Timestamp        1.783125e-02\n",
       "Airport_Code             3.356011e-03\n",
       "Timezone                 1.285961e-03\n",
       "Nautical_Twilight        1.007612e-03\n",
       "Astronomical_Twilight    1.007612e-03\n",
       "Sunrise_Sunset           1.007612e-03\n",
       "Civil_Twilight           1.007612e-03\n",
       "Zipcode                  4.635647e-04\n",
       "City                     4.814887e-05\n",
       "Street                   7.029032e-07\n",
       "Distance(mi)             0.000000e+00\n",
       "Side                     0.000000e+00\n",
       "Description              0.000000e+00\n",
       "Bump                     0.000000e+00\n",
       "County                   0.000000e+00\n",
       "End_Lat                  0.000000e+00\n",
       "Start_Lng                0.000000e+00\n",
       "Start_Lat                0.000000e+00\n",
       "End_Time                 0.000000e+00\n",
       "Start_Time               0.000000e+00\n",
       "Severity                 0.000000e+00\n",
       "End_Lng                  0.000000e+00\n",
       "State                    0.000000e+00\n",
       "Amenity                  0.000000e+00\n",
       "Country                  0.000000e+00\n",
       "Turning_Loop             0.000000e+00\n",
       "Traffic_Signal           0.000000e+00\n",
       "Traffic_Calming          0.000000e+00\n",
       "Stop                     0.000000e+00\n",
       "Station                  0.000000e+00\n",
       "Roundabout               0.000000e+00\n",
       "Railway                  0.000000e+00\n",
       "No_Exit                  0.000000e+00\n",
       "Junction                 0.000000e+00\n",
       "Give_Way                 0.000000e+00\n",
       "Crossing                 0.000000e+00\n",
       "ID                       0.000000e+00\n",
       "dtype: float64"
      ]
     },
     "execution_count": 9,
     "metadata": {},
     "output_type": "execute_result"
    }
   ],
   "source": [
    "# percentage of missing values\n",
    "missing_valuesperc= us_accidentsdata.isna().sum().sort_values(ascending=False)/len(us_accidentsdata)\n",
    "missing_valuesperc"
   ]
  },
  {
   "cell_type": "code",
   "execution_count": 10,
   "metadata": {},
   "outputs": [
    {
     "data": {
      "text/plain": [
       "<matplotlib.axes._subplots.AxesSubplot at 0x1f7bc0134c8>"
      ]
     },
     "execution_count": 10,
     "metadata": {},
     "output_type": "execute_result"
    },
    {
     "data": {
      "image/png": "[encoded data removed]",
      "text/plain": [
       "<Figure size 432x288 with 1 Axes>"
      ]
     },
     "metadata": {
      "needs_background": "light"
     },
     "output_type": "display_data"
    }
   ],
   "source": [
    "missing_valuesperc[missing_valuesperc!=0].plot(kind='barh')"
   ]
  },
  {
   "cell_type": "markdown",
   "metadata": {},
   "source": [
    "# Data analysis and exploring data"
   ]
  },
  {
   "cell_type": "code",
   "execution_count": 11,
   "metadata": {},
   "outputs": [
    {
     "data": {
      "text/plain": [
       "Miami            106966\n",
       "Los Angeles       68956\n",
       "Orlando           54691\n",
       "Dallas            41979\n",
       "Houston           39448\n",
       "                  ...  \n",
       "Waterman              1\n",
       "Wilburton             1\n",
       "Hunlock Creek         1\n",
       "Purgitsville          1\n",
       "Sagola                1\n",
       "Name: City, Length: 11681, dtype: int64"
      ]
     },
     "execution_count": 11,
     "metadata": {},
     "output_type": "execute_result"
    }
   ],
   "source": [
    "us_acc_bycity= us_accidentsdata.City.value_counts()\n",
    "us_acc_bycity"
   ]
  },
  {
   "cell_type": "code",
   "execution_count": 12,
   "metadata": {},
   "outputs": [],
   "source": [
    "#Miami is th the city with the most accidents by a big margin despite of having a less number of population that's indicate \n",
    "# a big problem"
   ]
  },
  {
   "cell_type": "code",
   "execution_count": 13,
   "metadata": {},
   "outputs": [
    {
     "data": {
      "text/plain": [
       "<matplotlib.axes._subplots.AxesSubplot at 0x1f7bc8d6408>"
      ]
     },
     "execution_count": 13,
     "metadata": {},
     "output_type": "execute_result"
    },
    {
     "data": {
      "image/png": "[encoded data removed]",
      "text/plain": [
       "<Figure size 432x288 with 1 Axes>"
      ]
     },
     "metadata": {
      "needs_background": "light"
     },
     "output_type": "display_data"
    }
   ],
   "source": [
    "us_acc_bycity[:20].plot(kind ='barh')"
   ]
  },
  {
   "cell_type": "code",
   "execution_count": 14,
   "metadata": {},
   "outputs": [],
   "source": [
    "import seaborn as sns\n"
   ]
  },
  {
   "cell_type": "code",
   "execution_count": 15,
   "metadata": {},
   "outputs": [],
   "source": [
    "high_accid_cities= len(us_acc_bycity[us_acc_bycity>=1000])/len(us_acc_bycity)\n",
    "low_accid_cities= len(us_acc_bycity[us_acc_bycity<1000])/len(us_acc_bycity)"
   ]
  },
  {
   "cell_type": "code",
   "execution_count": 16,
   "metadata": {},
   "outputs": [
    {
     "data": {
      "text/plain": [
       "0.04246211796935194"
      ]
     },
     "execution_count": 16,
     "metadata": {},
     "output_type": "execute_result"
    }
   ],
   "source": [
    "high_accid_cities"
   ]
  },
  {
   "cell_type": "code",
   "execution_count": 17,
   "metadata": {},
   "outputs": [
    {
     "data": {
      "text/plain": [
       "0.957537882030648"
      ]
     },
     "execution_count": 17,
     "metadata": {},
     "output_type": "execute_result"
    }
   ],
   "source": [
    "low_accid_cities\n"
   ]
  },
  {
   "cell_type": "code",
   "execution_count": 18,
   "metadata": {},
   "outputs": [],
   "source": [
    "# Only 4 percentages of the Us cities which have more than 1000 accidents"
   ]
  },
  {
   "cell_type": "markdown",
   "metadata": {},
   "source": [
    "# Start time relation with accidents"
   ]
  },
  {
   "cell_type": "code",
   "execution_count": 19,
   "metadata": {},
   "outputs": [
    {
     "data": {
      "text/plain": [
       "0          2016-02-08 00:37:08\n",
       "1          2016-02-08 05:56:20\n",
       "2          2016-02-08 06:15:39\n",
       "3          2016-02-08 06:51:45\n",
       "4          2016-02-08 07:53:43\n",
       "                  ...         \n",
       "2845337    2019-08-23 18:03:25\n",
       "2845338    2019-08-23 19:11:30\n",
       "2845339    2019-08-23 19:00:21\n",
       "2845340    2019-08-23 19:00:21\n",
       "2845341    2019-08-23 18:52:06\n",
       "Name: Start_Time, Length: 2845342, dtype: object"
      ]
     },
     "execution_count": 19,
     "metadata": {},
     "output_type": "execute_result"
    }
   ],
   "source": [
    "us_accidentsdata.Start_Time"
   ]
  },
  {
   "cell_type": "code",
   "execution_count": 20,
   "metadata": {},
   "outputs": [
    {
     "data": {
      "text/plain": [
       "0         2016-02-08 00:37:08\n",
       "1         2016-02-08 05:56:20\n",
       "2         2016-02-08 06:15:39\n",
       "3         2016-02-08 06:51:45\n",
       "4         2016-02-08 07:53:43\n",
       "                  ...        \n",
       "2845337   2019-08-23 18:03:25\n",
       "2845338   2019-08-23 19:11:30\n",
       "2845339   2019-08-23 19:00:21\n",
       "2845340   2019-08-23 19:00:21\n",
       "2845341   2019-08-23 18:52:06\n",
       "Name: Start_Time, Length: 2845342, dtype: datetime64[ns]"
      ]
     },
     "execution_count": 20,
     "metadata": {},
     "output_type": "execute_result"
    }
   ],
   "source": [
    "Starttime = pd.to_datetime(us_accidentsdata.Start_Time)\n",
    "Starttime"
   ]
  },
  {
   "cell_type": "code",
   "execution_count": 21,
   "metadata": {},
   "outputs": [
    {
     "data": {
      "text/plain": [
       "0           0\n",
       "1           5\n",
       "2           6\n",
       "3           6\n",
       "4           7\n",
       "           ..\n",
       "2845337    18\n",
       "2845338    19\n",
       "2845339    19\n",
       "2845340    19\n",
       "2845341    18\n",
       "Name: Start_Time, Length: 2845342, dtype: int64"
      ]
     },
     "execution_count": 21,
     "metadata": {},
     "output_type": "execute_result"
    }
   ],
   "source": [
    "Hourofaccident= Starttime.dt.hour\n",
    "Hourofaccident"
   ]
  },
  {
   "cell_type": "code",
   "execution_count": 25,
   "metadata": {},
   "outputs": [
    {
     "name": "stderr",
     "output_type": "stream",
     "text": [
      "E:\\anaconda\\lib\\site-packages\\seaborn\\distributions.py:2619: FutureWarning: `distplot` is a deprecated function and will be removed in a future version. Please adapt your code to use either `displot` (a figure-level function with similar flexibility) or `histplot` (an axes-level function for histograms).\n",
      "  warnings.warn(msg, FutureWarning)\n"
     ]
    },
    {
     "data": {
      "text/plain": [
       "<matplotlib.axes._subplots.AxesSubplot at 0x1f8056cac48>"
      ]
     },
     "execution_count": 25,
     "metadata": {},
     "output_type": "execute_result"
    },
    {
     "data": {
      "image/png": "[encoded data removed]",
      "text/plain": [
       "<Figure size 432x288 with 1 Axes>"
      ]
     },
     "metadata": {
      "needs_background": "light"
     },
     "output_type": "display_data"
    }
   ],
   "source": [
    "sns.distplot(Hourofaccident,bins = 24,kde=False,norm_hist=True)"
   ]
  },
  {
   "cell_type": "code",
   "execution_count": 26,
   "metadata": {},
   "outputs": [],
   "source": [
    "# a high percentage of the accidents happened between 14 pm to 17 pm"
   ]
  },
  {
   "cell_type": "code",
   "execution_count": 27,
   "metadata": {},
   "outputs": [],
   "source": [
    "Dayofaccident= Starttime.dt.dayofweek"
   ]
  },
  {
   "cell_type": "code",
   "execution_count": 28,
   "metadata": {},
   "outputs": [
    {
     "name": "stderr",
     "output_type": "stream",
     "text": [
      "E:\\anaconda\\lib\\site-packages\\seaborn\\distributions.py:2619: FutureWarning: `distplot` is a deprecated function and will be removed in a future version. Please adapt your code to use either `displot` (a figure-level function with similar flexibility) or `histplot` (an axes-level function for histograms).\n",
      "  warnings.warn(msg, FutureWarning)\n"
     ]
    },
    {
     "data": {
      "text/plain": [
       "<matplotlib.axes._subplots.AxesSubplot at 0x1f805790308>"
      ]
     },
     "execution_count": 28,
     "metadata": {},
     "output_type": "execute_result"
    },
    {
     "data": {
      "image/png": "[encoded data removed]",
      "text/plain": [
       "<Figure size 432x288 with 1 Axes>"
      ]
     },
     "metadata": {
      "needs_background": "light"
     },
     "output_type": "display_data"
    }
   ],
   "source": [
    "sns.distplot(Dayofaccident,bins = 7,kde=False,norm_hist=True)"
   ]
  },
  {
   "cell_type": "code",
   "execution_count": 29,
   "metadata": {},
   "outputs": [],
   "source": [
    "# Weekends have less accidents than all other days\n",
    "# Last work day before the weekend have the highest number of accidents"
   ]
  },
  {
   "cell_type": "code",
   "execution_count": 30,
   "metadata": {},
   "outputs": [],
   "source": [
    "Monthofaccident= Starttime.dt.month"
   ]
  },
  {
   "cell_type": "code",
   "execution_count": 31,
   "metadata": {},
   "outputs": [
    {
     "name": "stderr",
     "output_type": "stream",
     "text": [
      "E:\\anaconda\\lib\\site-packages\\seaborn\\distributions.py:2619: FutureWarning: `distplot` is a deprecated function and will be removed in a future version. Please adapt your code to use either `displot` (a figure-level function with similar flexibility) or `histplot` (an axes-level function for histograms).\n",
      "  warnings.warn(msg, FutureWarning)\n"
     ]
    },
    {
     "data": {
      "text/plain": [
       "<matplotlib.axes._subplots.AxesSubplot at 0x1f80580d548>"
      ]
     },
     "execution_count": 31,
     "metadata": {},
     "output_type": "execute_result"
    },
    {
     "data": {
      "image/png": "[encoded data removed]",
      "text/plain": [
       "<Figure size 432x288 with 1 Axes>"
      ]
     },
     "metadata": {
      "needs_background": "light"
     },
     "output_type": "display_data"
    }
   ],
   "source": [
    "sns.distplot(Monthofaccident,bins = 12,kde=False,norm_hist=True)"
   ]
  },
  {
   "cell_type": "code",
   "execution_count": null,
   "metadata": {},
   "outputs": [],
   "source": [
    "# December and november have the most accidents than any other month."
   ]
  },
  {
   "cell_type": "markdown",
   "metadata": {},
   "source": [
    "# Start Latitude and Start Longitude"
   ]
  },
  {
   "cell_type": "code",
   "execution_count": 35,
   "metadata": {},
   "outputs": [],
   "source": [
    "from folium.plugins import HeatMap\n",
    "import folium"
   ]
  },
  {
   "cell_type": "code",
   "execution_count": 42,
   "metadata": {},
   "outputs": [],
   "source": [
    "ziplatlang=list(zip(list(SampleofAccidents.Start_Lat),list(SampleofAccidents.Start_Lng)))\n",
    "SampleofAccidents= us_accidentsdata.sample(int(0.001*len(us_accidentsdata)))"
   ]
  },
  {
   "cell_type": "code",
   "execution_count": 43,
   "metadata": {},
   "outputs": [
    {
     "data": {
      "text/html": [
       "<div style=\"width:100%;\"><div style=\"position:relative;width:100%;height:0;padding-bottom:60%;\"><span style=\"color:#565656\">Make this Notebook Trusted to load map: File -> Trust Notebook</span><iframe srcdoc=\"&lt;!DOCTYPE html&gt;\n",
       "&lt;head&gt;    \n",
       "    &lt;meta http-equiv=&quot;content-type&quot; content=&quot;text/html; charset=UTF-8&quot; /&gt;\n",
       "    \n",
       "        &lt;script&gt;\n",
       "            L_NO_TOUCH = false;\n",
       "            L_DISABLE_3D = false;\n",
       "        &lt;/script&gt;\n",
       "    \n",
       "    &lt;style&gt;html, body {width: 100%;height: 100%;margin: 0;padding: 0;}&lt;/style&gt;\n",
       "    &lt;style&gt;#map {position:absolute;top:0;bottom:0;right:0;left:0;}&lt;/style&gt;\n",
       "    &lt;script src=&quot;https://cdn.jsdelivr.net/npm/leaflet@1.6.0/dist/leaflet.js&quot;&gt;&lt;/script&gt;\n",
       "    &lt;script src=&quot;https://code.jquery.com/jquery-1.12.4.min.js&quot;&gt;&lt;/script&gt;\n",
       "    &lt;script src=&quot;https://maxcdn.bootstrapcdn.com/bootstrap/3.2.0/js/bootstrap.min.js&quot;&gt;&lt;/script&gt;\n",
       "    &lt;script src=&quot;https://cdnjs.cloudflare.com/ajax/libs/Leaflet.awesome-markers/2.0.2/leaflet.awesome-markers.js&quot;&gt;&lt;/script&gt;\n",
       "    &lt;link rel=&quot;stylesheet&quot; href=&quot;https://cdn.jsdelivr.net/npm/leaflet@1.6.0/dist/leaflet.css&quot;/&gt;\n",
       "    &lt;link rel=&quot;stylesheet&quot; href=&quot;https://maxcdn.bootstrapcdn.com/bootstrap/3.2.0/css/bootstrap.min.css&quot;/&gt;\n",
       "    &lt;link rel=&quot;stylesheet&quot; href=&quot;https://maxcdn.bootstrapcdn.com/bootstrap/3.2.0/css/bootstrap-theme.min.css&quot;/&gt;\n",
       "    &lt;link rel=&quot;stylesheet&quot; href=&quot;https://maxcdn.bootstrapcdn.com/font-awesome/4.6.3/css/font-awesome.min.css&quot;/&gt;\n",
       "    &lt;link rel=&quot;stylesheet&quot; href=&quot;https://cdnjs.cloudflare.com/ajax/libs/Leaflet.awesome-markers/2.0.2/leaflet.awesome-markers.css&quot;/&gt;\n",
       "    &lt;link rel=&quot;stylesheet&quot; href=&quot;https://cdn.jsdelivr.net/gh/python-visualization/folium/folium/templates/leaflet.awesome.rotate.min.css&quot;/&gt;\n",
       "    \n",
       "            &lt;meta name=&quot;viewport&quot; content=&quot;width=device-width,\n",
       "                initial-scale=1.0, maximum-scale=1.0, user-scalable=no&quot; /&gt;\n",
       "            &lt;style&gt;\n",
       "                #map_5fe972880212b7d384c68fb23c24f426 {\n",
       "                    position: relative;\n",
       "                    width: 100.0%;\n",
       "                    height: 100.0%;\n",
       "                    left: 0.0%;\n",
       "                    top: 0.0%;\n",
       "                }\n",
       "            &lt;/style&gt;\n",
       "        \n",
       "    &lt;script src=&quot;https://cdn.jsdelivr.net/gh/python-visualization/folium@master/folium/templates/leaflet_heat.min.js&quot;&gt;&lt;/script&gt;\n",
       "&lt;/head&gt;\n",
       "&lt;body&gt;    \n",
       "    \n",
       "            &lt;div class=&quot;folium-map&quot; id=&quot;map_5fe972880212b7d384c68fb23c24f426&quot; &gt;&lt;/div&gt;\n",
       "        \n",
       "&lt;/body&gt;\n",
       "&lt;script&gt;    \n",
       "    \n",
       "            var map_5fe972880212b7d384c68fb23c24f426 = L.map(\n",
       "                &quot;map_5fe972880212b7d384c68fb23c24f426&quot;,\n",
       "                {\n",
       "                    center: [0, 0],\n",
       "                    crs: L.CRS.EPSG3857,\n",
       "                    zoom: 1,\n",
       "                    zoomControl: true,\n",
       "                    preferCanvas: false,\n",
       "                }\n",
       "            );\n",
       "\n",
       "            \n",
       "\n",
       "        \n",
       "    \n",
       "            var tile_layer_fbf8631997d04b50a0d561d2170d64ed = L.tileLayer(\n",
       "                &quot;https://{s}.tile.openstreetmap.org/{z}/{x}/{y}.png&quot;,\n",
       "                {&quot;attribution&quot;: &quot;Data by \\u0026copy; \\u003ca href=\\&quot;http://openstreetmap.org\\&quot;\\u003eOpenStreetMap\\u003c/a\\u003e, under \\u003ca href=\\&quot;http://www.openstreetmap.org/copyright\\&quot;\\u003eODbL\\u003c/a\\u003e.&quot;, &quot;detectRetina&quot;: false, &quot;maxNativeZoom&quot;: 18, &quot;maxZoom&quot;: 18, &quot;minZoom&quot;: 0, &quot;noWrap&quot;: false, &quot;opacity&quot;: 1, &quot;subdomains&quot;: &quot;abc&quot;, &quot;tms&quot;: false}\n",
       "            ).addTo(map_5fe972880212b7d384c68fb23c24f426);\n",
       "        \n",
       "    \n",
       "            var heat_map_687df43a33c9f88ea8cb4d2f1ff94163 = L.heatLayer(\n",
       "                [[25.846594, -80.37818100000001], [38.64436, -90.34746], [35.167182000000004, -80.965257], [45.622587, -106.440709], [40.806625, -123.471037], [32.688543, -96.770597], [41.525812, -124.036216], [39.758143, -84.242471], [25.92094, -80.195992], [44.974175, -93.290394], [34.26295, -119.23555], [25.731434, -80.335678], [32.398995, -86.312139], [33.815289, -117.915449], [38.793293, -77.025611], [45.11064, -93.04955], [28.591285, -81.380399], [40.35796, -111.73894], [34.752126000000004, -86.749752], [34.495244, -118.215172], [34.045074, -118.445169], [39.03721, -119.94916], [40.887399, -73.994596], [40.151802, -123.866052], [34.10863, -79.782772], [42.576216, -114.084166], [34.997577, -85.25001999999998], [34.087432, -117.654594], [41.781588, -72.662621], [34.018727, -118.279892], [39.564075, -104.900212], [47.52134, -122.19836], [38.78100900000001, -90.382044], [38.4357, -122.717322], [33.45774, -112.34631], [27.78108, -82.66055], [40.775424, -74.039236], [36.25616, -86.71439000000002], [33.741405, -84.23034], [40.643888, -74.203773], [33.855466, -117.970026], [25.940785, -80.205027], [40.97545, -73.71701999999998], [38.775159, -77.687815], [42.121378, -117.74563899999998], [33.237524, -117.226276], [32.894312, -96.71595], [25.848213, -80.158714], [39.441207, -77.493706], [35.18875999999999, -80.8309], [34.749953000000005, -92.262754], [35.136817, -80.908502], [34.034948, -118.333697], [33.71261, -117.78491], [33.876804, -118.108026], [33.672684999999994, -78.97251800000002], [41.83026, -88.07748000000002], [37.48192, -122.18289], [27.839109000000004, -82.72386], [42.69199, -87.95352], [33.672345, -112.031268], [28.304458, -81.410863], [27.30689000000001, -82.463768], [38.8651, -77.265276], [40.509284, -111.89102], [33.901841999999995, -118.294847], [40.372427, -74.464462], [33.914742, -118.273931], [48.412595, -122.331551], [39.160412, -94.818851], [30.541978000000004, -91.005551], [34.07208, -117.91106], [40.427112, -79.920864], [29.73707700000001, -95.539967], [34.06774, -117.83548], [33.821958, -117.875994], [41.545362, -72.800366], [40.63043, -111.87786], [46.008628, -92.932974], [40.82386, -74.31905], [47.56686, -122.32048], [33.913327, -118.278348], [37.72079, -121.65521], [27.344846, -82.542682], [32.81476, -96.6445], [38.870261, -77.300201], [42.72634, -84.73961], [34.023153, -118.156458], [40.104005, -75.220109], [32.2065, -110.80688700000002], [35.628082, -78.822971], [35.371509, -83.25469], [40.84373, -73.89568], [43.484437, -124.222343], [40.91664, -74.05643], [45.53262, -122.57654], [36.940349, -121.788339], [34.420231, -117.385576], [40.25312, -76.81371], [47.730475, -122.345047], [40.32507, -74.36098], [40.89348, -74.130792], [25.885611, -80.164811], [30.382537, -97.771309], [35.082886, -106.636692], [29.666231, -95.504824], [41.246148, -73.094915], [34.215879, -119.018871], [38.232421, -122.25932], [40.807417, -74.182466], [35.042235, -118.170368], [29.695533, -95.52256], [33.998895000000005, -118.066241], [27.848099, -82.663911], [38.892645, -77.216717], [40.445877, -74.424959], [33.34858, -111.987], [37.560407, -121.909216], [41.763421, -72.639702], [35.753822, -78.559066], [35.57355, -97.67403], [33.520435, -86.820605], [41.067827, -73.492754], [30.496109000000004, -87.221849], [33.98915, -118.280795], [42.27079000000001, -84.4318], [39.094258, -76.626924], [47.53154, -122.28082], [31.74431, -106.30169], [43.907601, -121.35686], [42.331311, -122.870261], [41.197817, -111.973742], [45.06812, -93.25382], [34.016796, -118.051083], [27.98472000000001, -82.37964000000002], [39.823016, -75.441407], [31.691213, -106.294033], [44.82308, -93.29132], [26.713362, -81.81017299999998], [39.335421, -112.081028], [40.890859000000006, -123.564955], [33.12895, -117.09892], [25.598519, -80.356751], [26.16625100000001, -80.159687], [37.733079, -122.412289], [34.071069, -117.794259], [28.295105, -81.350787], [29.741113, -95.456736], [38.77861400000001, -122.681626], [28.423768, -81.404781], [39.87591, -75.12100000000002], [34.155553999999995, -118.42826], [41.13663, -111.923657], [42.512491, -123.363066], [32.290146, -86.340936], [36.606572, -119.662673], [38.257672, -122.589174], [28.021205, -82.091025], [32.74028, -117.248779], [38.456386, -122.726108], [44.86177, -93.3138], [32.737071, -117.176479], [40.02316, -76.54184000000002], [30.213307, -97.830603], [36.365207, -94.174665], [36.200942, -119.32864], [43.15112, -121.7959], [32.36549, -86.286374], [39.92293, -86.268517], [32.90287, -96.72197], [39.8046, -86.05416], [29.784763, -95.68111], [40.913667, -122.390309], [37.59565300000001, -122.504029], [29.791856, -95.52186], [28.674777, -81.46805], [32.753368, -117.07193], [35.77888, -78.563829], [40.732187, -74.12942199999998], [33.945878, -117.297497], [33.108253999999995, -97.027655], [27.86557800000001, -82.819029], [29.996949, -90.1462], [40.552524, -121.72794], [33.947062, -117.299905], [34.15436500000001, -118.386886], [37.806495, -122.322321], [40.163995, -75.058815], [34.15573, -118.42777], [45.304826, -92.960667], [32.759889, -117.18819], [30.282426, -97.711703], [34.067713, -117.592109], [39.359001, -76.746544], [39.506037, -77.402913], [34.89278, -82.23346], [35.430852, -110.425518], [25.820903, -80.206654], [33.782283, -118.280729], [33.8727, -118.27064], [35.764838, -78.726371], [38.93554, -94.7506], [37.509648, -121.970454], [30.411504, -86.716038], [37.00249, -121.507325], [43.676721, -71.476853], [33.975108, -118.384369], [38.64320900000001, -76.893506], [32.778645000000004, -117.11248799999998], [45.84957, -119.288943], [33.980373, -79.146312], [45.53021, -122.6381], [28.488786, -81.417497], [46.168165, -123.74263700000002], [34.437624, -119.852866], [38.818721, -77.017486], [41.84566, -87.98301], [33.68435, -84.56565], [33.724855, -117.83571299999998], [40.765789, -111.935631], [26.65997, -80.07068000000002], [33.893753000000004, -84.258524], [39.282175, -120.104458], [39.25152, -76.57291], [25.760882, -80.420301], [38.074867, -121.352745], [41.712738, -112.210654], [32.839287, -80.740902], [31.30551, -86.49927], [38.618104, -121.513848], [42.947713, -78.652249], [37.763758, -121.967986], [35.8879, -78.645403], [38.78562, -90.5284], [41.828404, -86.67275500000002], [25.685194, -80.418423], [33.88738, -84.46471], [43.678958, -93.321949], [38.61393, -90.22478], [32.748943, -97.299714], [38.795338, -121.01734], [34.34368, -79.532864], [37.143311, -80.349246], [32.254259999999995, -90.21139], [37.121847, -76.51485], [33.26549, -80.48145500000003], [38.936458, -92.747815], [28.054329, -82.343612], [41.119841, -112.019315], [37.327026, -121.940871], [34.319426, -118.494405], [40.981696, -75.137311], [43.164639, -77.623251], [46.467976, -110.224017], [34.080009999999994, -118.411735], [39.533497, -119.787529], [27.85162, -82.34671800000002], [27.058536, -80.238656], [33.52407, -112.18629], [25.807304, -80.304159], [33.46474, -112.2732], [28.576778000000004, -81.45138299999998], [34.015513, -118.169809], [38.564187, -121.492724], [42.872179, -78.789702], [32.650262, -117.06628899999998], [37.80448, -79.389685], [34.029888, -117.711663], [42.947461, -85.64641999999998], [34.73181, -92.327643], [34.433539, -118.385685], [27.96475, -82.452525], [32.243704, -110.952476], [44.543608, -93.584129], [34.121617, -117.702671], [28.027247, -82.195706], [38.49561, -121.506117], [44.21846, -116.99611000000002], [35.390652, -78.160588], [39.020894, -94.194749], [41.114463, -73.388671], [27.91971, -82.60977], [29.966468, -90.020032], [35.094112, -118.305456], [32.837364, -79.962746], [33.76672, -78.80532], [33.609889, -112.401884], [32.837546, -117.234446], [37.552996, -77.443946], [45.511442, -122.705554], [43.045884, -89.307905], [27.96065, -82.760037], [38.364204, -76.977456], [38.944912, -76.909334], [33.769263, -117.275666], [37.481912, -122.177758], [29.699825, -95.296855], [39.188656, -120.838214], [41.577814, -120.4356], [29.92306, -90.041689], [28.49813300000001, -81.3968], [36.836224, -120.564554], [40.86009, -74.36874], [37.54012, -120.89561], [38.92478, -77.12234000000002], [44.39861, -95.21861], [37.632895, -122.419061], [30.449775, -91.138962], [30.49662600000001, -91.084896], [44.960863, -93.090762], [41.15641, -112.0246], [34.032789, -118.028932], [34.668890000000005, -86.76388], [30.37835, -91.09612], [33.428981, -112.065277], [34.77932, -82.37637], [34.034946999999995, -118.337334], [37.727364, -121.724228], [39.996868, -75.23572800000002], [37.091399, -80.575929], [39.9617, -75.14031999999997], [42.35395, -83.04992], [45.347714, -122.651898], [38.72749, -77.201318], [43.789583, -117.849494], [32.936982, -117.241603], [26.509519, -81.904149], [47.285467, -122.307733], [40.76282, -73.58914], [32.359617, -86.171382], [28.238108, -81.46261], [25.77794, -80.3775], [43.865393, -92.199293], [40.100783, -75.103826], [42.045343, -88.293596], [34.295673, -79.884597], [39.668571, -75.67004], [25.769876, -80.32406800000003], [34.063721, -117.273784], [37.923282, -122.061272], [34.071909999999995, -117.89375], [28.76273, -81.88039], [34.018239, -118.480847], [38.86300900000001, -77.382942], [39.647326, -121.634329], [41.0659, -93.78125], [25.823495, -80.317663], [25.499538, -80.413372], [38.598264, -121.416346], [43.211649, -124.242568], [28.61539, -80.80753], [43.12627, -77.6389], [29.96585, -90.1097], [39.302582, -76.90361700000003], [38.611744, -121.40154], [45.048919, -93.400747], [25.74888, -80.373776], [29.609622, -98.470927], [30.386799, -87.08649799999998], [40.850266, -73.945263], [45.07598, -93.32973], [30.41976, -91.08481], [33.740416, -117.99953700000002], [34.763585, -118.790842], [42.489141, -73.677266], [42.034045, -88.285614], [33.46226, -112.41676499999998], [33.7351, -84.39189], [41.494219, -81.683711], [40.85399, -73.964857], [43.847236, -92.538513], [39.871412, -84.895445], [33.46723, -117.67063], [43.76275, -93.31464], [35.149605, -80.830292], [26.6515, -80.10423], [37.53141, -121.9407], [35.8372, -78.71345500000002], [33.444555, -112.341085], [38.122927, -122.230995], [38.244927, -122.290193], [39.5153, -104.86834], [33.623689, -117.270523], [43.00889, -83.683789], [30.035358, -90.044876], [41.42116400000001, -81.695747], [45.50817, -122.56522], [34.732317, -82.7665], [42.48999, -83.05398000000002], [34.973154, -106.654523], [33.54459600000001, -83.074117], [44.98485, -123.00776], [40.821116, -97.649803], [34.036856, -118.294998], [25.884161, -80.35014], [37.567971, -122.31073700000002], [39.282354, -120.987756], [36.069005, -86.68892], [45.546992, -122.401906], [33.902121, -118.265274], [35.02641, -85.36843], [25.710032, -80.28251999999998], [32.694387, -96.844293], [25.862271, -80.330919], [34.724836, -81.829114], [35.25468499999999, -112.202187], [33.87608, -118.12872], [37.72875, -79.43168100000003], [26.374243, -81.80797], [34.791673, -110.218995], [42.91306, -85.66599000000002], [37.505967, -120.041036], [25.574597, -80.373396], [37.126046, -121.733226], [32.286543, -110.969766], [38.821234, -76.886503], [38.45306, -81.860812], [36.918321, -76.268967], [29.82963, -81.3813], [45.368392, -93.978409], [27.89341, -82.72182], [35.867595, -78.82364], [42.464936, -123.323475], [42.200684, -121.704885], [40.78128, -73.9441], [27.332965, -82.447339], [33.791664000000004, -117.8903], [26.16625100000001, -80.159687], [25.466171, -80.474373], [28.577665000000003, -81.476148], [40.675188, -111.952732], [41.381012, -72.900316], [28.380919, -81.505104], [25.823138, -80.321463], [46.803649, -113.774907], [35.44984, -97.72464], [38.871956, -94.52628], [34.324188, -118.501557], [47.116488, -122.560847], [31.75989, -106.27009], [33.792034, -81.297562], [42.89487, -70.88002], [36.798761, -121.664691], [44.56129, -123.14081000000002], [45.12774, -93.48593], [34.321535, -119.102836], [42.159846, -87.80695300000002], [28.57788, -81.45621], [37.181859, -93.275847], [34.869006, -113.643983], [38.88357, -77.0322], [25.84576, -80.225367], [42.3461, -83.09633000000002], [33.166244, -87.525482], [33.92795, -80.900491], [33.369351, -117.25463700000002], [34.13536, -117.993721], [27.825869, -82.665821], [25.92602, -80.21037], [33.799890000000005, -84.39126], [28.79823, -81.32989], [25.598641, -80.352751], [35.104792, -80.989124], [29.97555, -95.56437], [25.671986, -80.38261899999998], [39.059769, -77.122309], [38.754142, -121.264051], [38.92372, -76.85341], [40.69903, -73.50950999999998], [42.25828, -122.78893], [28.566902, -81.208647], [40.08168, -82.89551], [33.140119, -80.62939200000002], [40.074667, -77.05606800000002], [38.12691, -121.334196], [40.042342, -76.363692], [30.411124, -81.749099], [38.73989, -90.37139], [34.44275, -92.197705], [34.055001000000004, -117.299073], [37.80647, -121.99071], [40.79124, -111.91607], [29.701674, -95.371278], [41.515219, -73.591133], [32.164364, -110.951472], [33.860409999999995, -118.038128], [36.16167700000001, -95.886762], [38.76305900000001, -120.541231], [40.849679, -73.94283100000001], [37.42528, -122.09804], [34.263133, -118.47209], [34.91437, -118.92357], [39.368367, -77.147864], [33.974736, -118.240603], [39.665363, -75.604506], [25.59865, -80.35243299999998], [29.7302, -95.454538], [28.523914, -81.143811], [38.668585, -121.372439], [41.163297, -73.38351999999998], [34.882869, -117.511138], [43.512353, -119.170816], [34.172582, -118.389747], [44.489751, -123.06181], [27.298807, -82.49996999999998], [36.326841, -119.301384], [28.5536, -81.489712], [38.94679, -94.88211], [33.91643, -118.30039], [37.62379, -77.545144], [37.376641, -121.941774], [25.685198, -80.418289], [40.865366, -73.973863], [38.392219, -122.442505], [34.027322, -118.237975], [33.893302, -118.045744], [39.421736, -77.25302099999998], [28.117665, -80.577667], [38.572324, -121.467815], [39.823342, -86.275816], [43.06483, -76.195753], [25.94236, -80.207619], [26.13336, -80.39168000000002], [30.46587700000001, -86.392228], [45.823391, -119.560099], [37.663718, -122.48493], [25.898028, -80.342159], [30.44135, -84.22655], [38.498944, -121.517229], [35.274147, -80.793452], [42.951229, -85.673351], [31.71441, -91.07], [38.553195, -121.511874], [40.88065, -73.86929], [39.195436, -94.510948], [46.35524, -92.573641], [42.646576, -84.072393], [35.429077, -117.978995], [39.338747, -77.508319], [38.066557, -120.601491], [41.761932, -87.895774], [35.769263, -78.644417], [40.19327, -77.164156], [34.04061, -118.07696], [37.614687, -122.393628], [36.271694, -82.928463], [30.123397, -81.79793000000002], [37.953792, -122.328714], [38.494385, -121.42828], [38.64143, -121.46141], [44.929844, -93.45285], [41.725243, -72.653708], [25.71606400000001, -80.41524], [25.939197, -80.295275], [33.987759999999994, -118.39923], [28.037527, -82.034686], [40.42948, -79.88664], [28.452192, -81.400388], [34.038346000000004, -118.702704], [25.72141, -80.31831], [33.880105, -117.565472], [43.637873, -95.57964], [41.01495, -76.48455], [35.078412, -89.920967], [39.126561, -122.863484], [42.971797, -85.737176], [39.930292, -86.164537], [33.73087, -117.98655], [33.66811, -112.08288], [42.8707, -78.84508000000002], [40.11458, -75.12179], [25.744797, -80.224354], [27.165106, -82.475413], [38.255976, -122.673315], [36.35357, -82.39395999999998], [34.144788, -117.273591], [27.337544, -82.489303], [25.902458, -80.29225100000002], [39.711939, -121.798092], [45.61287100000001, -122.678185], [35.33548, -109.07058], [39.103785, -77.577928], [32.874276, -117.106975], [45.825305, -122.845009], [42.91293, -74.448863], [36.835291, -118.215804], [34.030473, -117.668651], [37.96086, -122.053267], [39.319456, -77.353566], [45.100557, -93.263494], [38.714871, -75.106938], [37.892864, -122.124999], [37.610397, -122.069405], [35.154990000000005, -80.82443], [32.514842, -90.1029], [28.537651, -81.47573299999998], [29.977295, -90.038494], [33.759543, -78.96905], [45.555979, -118.462904], [35.178938, -81.970822], [38.66995, -111.8385], [42.234051, -73.034915], [36.720353, -114.459375], [37.714195, -122.157803], [39.63702, -104.90873], [33.46226, -112.41676499999998], [39.475526, -76.27210699999998], [32.748398, -117.155982], [34.11046, -118.33435], [44.94833, -92.98585], [36.820964, -76.338882], [25.626145, -80.41645], [31.7817, -106.459913], [44.65962, -123.84857], [33.957196, -118.28107], [38.905645, -77.024985], [25.531311, -80.408641], [32.1779, -110.92632], [35.017794, -85.168687], [38.525086, -123.265046], [44.899731, -92.995656], [40.915919, -74.133178], [34.420241, -119.676207], [25.605246, -80.351185], [37.833268, -122.265894], [30.24645, -97.73508], [35.147674, -80.790616], [32.39843, -80.572121], [44.432605, -93.948651], [48.386074, -119.53244], [38.289123, -122.033936], [38.61885, -77.297951], [42.92188, -123.27695], [30.48636, -84.03036999999998], [33.188398, -87.42181], [42.3026, -87.87558299999998], [42.719103, -84.50444300000002], [34.164319, -118.622642], [37.827354, -122.266856], [25.704304, -80.28833900000002], [30.453123, -81.62046099999998], [45.510244, -92.99467], [27.447476, -82.52761600000002], [32.8493, -96.908967], [35.83692, -78.32311999999997], [42.133666, -79.24193299999997], [28.610169, -81.434649], [27.992874, -82.369683], [33.078436, -117.08404099999998], [44.88729, -93.36901], [41.633116, -90.878906], [44.985336, -92.984704], [37.548064, -122.291312], [37.797657, -121.143161], [33.93224, -118.28082], [37.90731, -122.31508], [35.128167, -84.86633], [37.340933, -119.643357], [30.43642100000001, -89.09673199999996], [29.347729, -82.219385], [38.43504, -88.95097], [47.543519, -122.328796], [28.608732, -81.72694200000002], [34.863653, -82.606126], [34.106328999999995, -117.475724], [35.734224, -79.432687], [30.323884000000003, -81.527521], [41.806671, -124.082538], [27.382408, -82.557059], [32.716679, -117.120112], [39.908963, -75.569404], [37.772465, -122.407029], [38.639207, -77.292946], [39.832061, -86.035872], [33.61789, -117.71116], [29.179687, -82.18468399999998], [25.954534, -80.245846], [34.02233, -118.198169], [32.651136, -96.943043], [33.972541, -84.091833], [40.337249, -104.98033], [25.688077, -80.44621], [33.50943, -111.90854], [40.565428, -74.324517], [30.321482, -81.677652], [30.103033, -92.1246], [34.755035, -82.556333], [37.732598, -120.913106], [47.3504, -122.24488999999998], [28.407493, -81.40349], [40.82497, -73.868564], [37.718953000000006, -121.696676], [35.906764, -78.894549], [40.66642, -73.78950999999998], [44.813703, -93.398418], [35.234896, -80.76189000000002], [38.59385, -121.50407], [38.570519, -121.51478600000002], [28.374269, -81.356866], [35.239852, -80.90888000000002], [25.800551, -80.36925500000002], [35.77235, -78.74162], [46.30075, -93.8278], [38.983923, -76.544913], [48.240425, -114.26683], [34.12925300000001, -117.942407], [34.032779, -118.028923], [37.441406, -77.587938], [31.668604, -106.247822], [37.313595, -79.406599], [39.396479, -78.027459], [37.907164, -122.314949], [33.795404, -84.394262], [38.909005, -77.46762700000002], [33.85389, -117.92903], [32.96463, -96.91732], [25.701827, -80.347041], [29.767325, -95.478239], [44.41768, -122.76868], [40.379674, -74.501518], [33.424359, -112.229893], [43.1266, -94.9724], [32.65023, -117.06619], [28.66436, -81.34026], [41.13924, -111.819613], [33.153305, -80.62342199999998], [32.644593, -96.780081], [46.440292, -112.72317], [33.780731, -84.391209], [34.290977000000005, -117.451896], [30.18767, -97.562205], [29.77735, -95.2754], [34.118433, -118.150355], [26.632715, -80.067833], [34.066422, -117.990881], [32.738176, -96.700426], [34.134353999999995, -117.674277], [29.68052, -95.35974], [37.082448, -121.595659], [40.42845, -111.88805], [29.728945, -95.460407], [36.187584, -86.776057], [40.738251, -73.801877], [42.710148, -84.54799999999999], [33.74643, -117.44784], [40.824025, -73.836075], [35.919898, -78.750747], [47.152987, -111.834908], [38.93611, -76.91599000000002], [40.775072, -77.810202], [30.435336, -91.177242], [41.25747, -73.143142], [33.88374, -117.63927], [46.354295, -67.842169], [25.673716, -80.32382700000002], [47.638787, -122.34544], [41.524697, -73.959939], [39.549708, -76.482933], [25.910063, -80.210076], [25.81033, -80.14402], [41.60085, -72.67173000000003], [35.450522, -120.90512], [33.788025, -118.096134], [37.713229, -122.170387], [37.081359, -80.658272], [37.027369, -113.049799], [38.416516, -122.699034], [25.85448, -80.387406], [40.048573, -76.393476], [34.787388, -81.454448], [44.861651, -93.463343], [36.166123, -86.73950500000002], [39.76492, -104.82751], [37.978721, -121.261545], [37.34897, -122.0598], [28.577378000000003, -81.479244], [41.97663, -78.617039], [35.20167, -80.76059000000002], [27.111393, -82.384275], [33.84241, -118.28588899999998], [28.261640000000003, -81.617038], [32.519638, -93.753204], [38.344762, -77.744562], [29.994875, -90.119827], [42.821949, -73.768526], [40.206598, -75.139746], [37.55158, -122.051399], [47.59581, -122.321], [39.37565, -76.45211], [45.69295, -95.88192], [44.931399, -93.13639], [34.017175, -118.05396100000002], [35.52138, -78.28596999999998], [43.449408, -73.697781], [29.870766, -95.439188], [38.008993, -122.029985], [25.758577, -80.336786], [29.735781, -95.625], [38.71433, -121.3922], [37.22774, -113.37556], [36.589541, -119.412963], [28.481623, -81.330857], [33.59452, -86.65843000000002], [35.106753000000005, -106.628763], [35.189807, -80.929177], [38.754808, -77.276294], [35.101586, -80.88065], [28.548378000000003, -81.413837], [41.272731, -95.898427], [35.93604000000001, -84.14601], [32.922238, -117.115255], [33.866494, -117.717074], [25.943451, -80.30708800000002], [34.060520000000004, -81.04902], [36.239003, -86.74261800000002], [34.006254, -117.827229], [39.29153, -76.59395], [47.52289, -95.43246], [45.445884, -118.376495], [38.663573, -77.24924399999998], [47.630141, -122.326787], [38.504194, -90.666056], [33.84636, -117.862], [39.134123, -77.924477], [32.715106, -117.102598], [30.44848, -91.24951], [37.167349, -122.042531], [44.906631, -122.98606], [36.160746, -95.902299], [30.251597, -81.49476], [45.53007, -122.6834], [33.948516999999995, -84.137817], [33.94547, -118.370062], [37.310139, -120.511856], [33.969501, -117.549], [40.728559, -74.02650799999998], [42.349055, -87.877276], [40.75727, -73.61985], [33.806462, -117.880308], [26.54249, -80.07197], [32.700466, -96.857089], [28.195192, -82.739808], [39.122901, -76.51733], [33.745653000000004, -84.345247], [40.29645900000001, -74.02722800000002], [30.297823, -81.770618], [40.110751, -75.280498], [39.188395, -78.115297], [33.872885, -118.342123], [30.426781, -97.676681], [34.06521, -84.383924], [29.613444, -95.441928], [42.610291, -83.222025], [40.84883, -73.93863], [33.79457, -83.74309000000002], [40.538058, -122.561524], [34.03067, -117.6067], [45.91821, -119.32089], [34.30341, -116.46742], [39.113802, -76.63459], [25.818449, -80.264977], [44.968021, -93.088958], [34.12005300000001, -117.868676], [34.19433, -118.18272], [33.971608, -117.331018], [39.584488, -76.097379], [43.14483, -76.12124], [39.044819, -94.656151], [33.542265, -117.673583], [37.896603000000006, -122.51607], [34.818991, -82.276658], [36.76859, -76.600488], [45.36383, -122.60623], [41.73545, -87.68749], [29.4827, -81.18647], [34.583641, -120.386713], [39.835677, -84.18966], [33.960016, -118.283889], [25.93371, -80.121845], [37.525681, -77.271834], [33.614854, -117.707585], [42.15421, -88.12832], [29.683529, -95.349346], [40.72012700000001, -112.231403], [40.224689, -75.23360100000002], [30.428234000000003, -85.687619], [34.741283, -80.909363], [30.42847, -91.171342], [41.39859000000001, -81.6522], [40.675195, -78.232601], [43.114063, -123.505368], [33.49093, -112.112957], [33.827290000000005, -84.25236], [35.60975, -97.59566], [38.259858, -85.741217], [28.357818, -81.504859], [39.309339, -120.910145], [36.388277, -86.261934], [35.48636, -80.87464], [26.085446, -80.20401], [27.855498, -82.32655600000002], [25.688376, -80.365884], [42.241833, -88.004747], [37.8791, -121.27828], [29.78493, -95.45173], [28.147415, -81.443893], [29.13552, -82.053569], [37.185791, -84.139963], [43.249408, -76.582678], [47.80952, -122.54157], [41.066844, -73.866605], [41.21498, -111.9706], [33.989215, -118.241834], [35.554367, -120.711899], [32.855704, -96.683171], [41.29712, -72.70900999999998], [30.007165000000004, -82.604345], [34.033386, -118.114785], [39.113248, -121.558374], [25.779743, -80.199979], [33.83935, -118.263543], [42.53772, -83.11634000000002], [33.543502000000004, -84.270533], [33.883026, -117.541319], [34.071768, -118.097823], [25.687326, -80.400991], [30.063016, -95.218399], [40.31261, -78.88441], [28.381987, -81.27017099999998], [35.295971, -113.027826], [42.482117, -83.20732], [36.130998, -119.169787], [28.381007, -81.404418], [36.579712, -77.564959], [38.618009, -76.970329], [32.416015, -93.763136], [43.16725, -123.36625], [37.757938, -121.531773], [34.00375, -118.28349], [39.204807, -94.497848], [37.669708, -113.079894], [36.89441, -76.141851], [44.86176, -93.2985], [26.18241, -80.15254], [26.154787, -81.35194200000002], [37.52532100000001, -79.70454000000002], [38.74779, -121.26845], [45.068632, -93.258508], [35.014683000000005, -85.274559], [45.506733, -92.993119], [38.538311, -121.513391], [36.765079, -77.82595], [33.75566, -84.46703000000002], [37.633118, -122.418508], [38.803705, -121.125293], [34.120259999999995, -117.90758], [30.44046, -91.21484], [25.715596, -80.415222], [35.834065, -78.67267700000002], [33.85411, -117.79493], [34.155491, -118.267813], [40.21974, -75.507994], [33.64062, -111.99616], [37.769464, -122.413199], [42.945916, -74.390188], [25.766144, -80.372817], [37.552072, -77.47760500000003], [30.265802, -97.734668], [30.390811, -88.50700400000002], [42.881514, -78.880751], [41.157154, -75.886261], [25.896519, -80.26763000000003], [35.44138, -80.62608], [44.968889, -93.287867], [41.08901, -73.45572], [41.198448, -112.02581], [29.944514, -90.077666], [46.51499, -93.81498], [32.865765, -117.233491], [39.56363, -105.022719], [34.018402, -118.278869], [34.136306, -117.529422], [29.70435, -95.559065], [42.99743, -78.423467], [40.227951, -78.827854], [47.43716, -122.21851], [40.98735, -73.68024], [40.68338, -75.29603], [27.049611, -82.387299], [42.233589, -76.33510799999998], [39.459149, -74.53446], [40.041241, -76.289691], [27.317563, -81.380865], [35.13007, -90.0791], [28.472576, -81.396746], [33.87676, -118.187816], [44.966443, -93.254985], [32.939498, -96.8221], [34.01485, -118.485916], [37.679864, -122.125651], [29.736017, -95.571699], [37.153032, -93.319079], [30.36991, -91.010561], [37.182727, -93.334267], [42.439368, -83.756086], [29.686028000000004, -95.557722], [33.06265, -117.068749], [28.67965, -81.8591], [29.81036, -95.37394], [41.60195, -73.14035], [33.084381, -116.903776], [25.82311, -80.20658399999998], [30.24186, -81.5145], [37.973138, -120.361264], [41.79762, -87.63145], [34.107426000000004, -118.47961399999998], [37.322863, -121.891754], [28.21721, -82.6928], [34.036390000000004, -117.3222], [33.117435, -117.099783], [45.13799, -93.49455], [44.06467, -94.38949], [41.185122, -112.011271], [28.421918, -81.474388], [40.516058, -74.37298299999998], [33.00968, -83.53376], [34.152752, -79.834716], [35.100374, -80.98835600000002], [34.145888, -118.134501], [30.356873, -81.55503900000002], [29.766906, -95.218272], [25.912091, -80.23405600000002], [40.726372, -113.250085], [39.10471, -94.57132], [32.764139, -96.77429], [40.742875, -73.83043], [33.825317, -118.226582], [32.900382, -96.717648], [34.046834000000004, -118.44724], [25.787536, -80.17853000000002], [34.422803, -118.428655], [34.022401, -118.15553], [38.811799, -77.146825], [38.890729, -77.422742], [47.671756, -117.40954], [39.407604, -76.66820799999998], [33.69891, -84.26978000000003], [34.199843, -118.136158], [37.507475, -120.985553], [35.150102000000004, -85.20926700000003], [34.049306, -117.305245], [35.162882, -80.876029], [46.126803, -88.731249], [33.87498, -117.54523], [34.118963, -117.866551], [38.51074600000001, -121.370017], [25.785602, -80.214287], [42.38782, -83.01626], [39.506463, -121.474304], [36.815578, -119.816128], [39.87339, -75.04638], [41.75649600000001, -72.649249], [39.432627, -121.6051], [26.892090000000003, -81.99880999999998], [32.371557, -93.823375], [34.080296000000004, -118.315715], [25.762048, -80.33620400000002], [43.971071, -92.463378], [33.476225, -117.138931], [28.451938, -81.400468], [37.474154, -77.525674], [33.80754, -118.20714], [40.868785, -73.82105200000002], [34.14517, -118.2178], [33.868661, -117.544166], [33.850235999999995, -118.284748], [29.976799, -90.05504300000004], [41.06254000000001, -81.47395999999998], [39.797938, -84.200057], [44.966207, -123.295138], [36.949986, -76.265423], [42.352283, -123.55343700000002], [34.703988, -118.170234], [34.08611, -118.23207], [40.228768, -111.117707], [35.408606, -119.034159], [44.05697, -122.94222], [33.423139, -111.930382], [30.41935, -91.120883], [38.85032800000001, -77.412357], [25.847033, -80.20973000000002], [32.23258, -110.893571], [33.527966, -86.827043], [32.59275, -117.08858], [39.402451, -76.765674], [35.14528, -80.84982], [35.377382, -82.478474], [35.168431, -85.209019], [41.807712, -124.147234], [47.65678, -122.32231000000002], [43.168572, -124.378865], [44.952243, -93.069935], [33.773224, -117.871803], [45.18182, -94.6762], [38.003744, -121.836546], [40.89904, -74.23133], [42.710515, -78.908829], [28.086083, -81.971121], [34.756703, -86.725578], [45.50571400000001, -122.76408], [25.896907, -80.253084], [33.810049, -84.37561099999998], [32.424076, -93.712006], [34.70701, -86.67103399999998], [40.727936, -74.10110999999998], [38.83013, -121.300187], [42.226799, -123.646818], [34.2221, -118.368684], [25.879791, -80.356029], [34.27255, -118.35641], [46.87249, -92.45993], [33.822571, -118.290205], [29.685493, -95.532155], [43.597542, -116.313996], [30.481801, -97.674348], [37.292398, -80.104387], [35.20273800000001, -80.757515], [35.664343, -78.700469], [42.32492, -83.08403], [45.66577, -118.814361], [26.567649, -81.614891], [40.63507, -111.8984], [25.714607, -80.413569], [34.004123, -118.064284], [35.17122, -80.80829], [38.890425, -76.957559], [38.524508, -90.319733], [45.52868, -122.66533], [28.614749, -81.44475], [33.871464, -117.739618], [36.24997000000001, -86.74123], [40.87374000000001, -73.98283], [34.024314000000004, -117.11136100000002], [34.097517, -118.616563], [34.424532, -112.556165], [39.871485, -75.102027], [33.795307, -118.105913], [46.526434, -95.384953], [28.486838, -81.418423], [35.298901, -78.579536], [33.68329, -117.62063], [25.686282, -80.38456], [34.064644, -117.207353], [34.336861, -80.07334200000003], [38.971181, -77.1793], [34.033724, -118.436737], [40.741821, -73.782967], [38.669975, -77.25694200000002], [33.462214, -112.5], [40.637828000000006, -74.207961], [36.076944, -120.997778], [41.81849, -88.4666], [32.43525, -86.21883000000004], [39.10651, -76.57214], [33.928709999999995, -118.368254], [26.545661, -81.91438000000002], [36.15814, -86.7912], [34.141199, -80.913326], [34.74462, -118.170579], [38.576275, -121.564534], [33.710021999999995, -117.782456], [29.02792, -81.323858], [33.781296000000005, -117.879534], [36.413639, -121.674107], [45.01159000000001, -93.02175], [28.257447, -81.61624], [27.62636, -82.659965], [25.623158, -80.382099], [42.972568, -85.65397800000002], [40.738083, -73.849885], [36.043905, -86.725799], [38.672345, -77.246288], [44.284644, -94.39189], [38.522782, -122.78714], [34.046727000000004, -118.447764], [33.592004, -117.125002], [38.99573, -120.995596], [37.69072, -122.092358], [25.632157, -80.41478199999997], [37.859834, -121.281566], [26.061562, -80.207752], [35.0111, -85.27172], [48.174636, -114.426458], [40.686891, -73.614587], [33.83789, -84.35968100000002], [33.183015999999995, -117.165026], [35.738493, -78.790501], [30.517562, -81.63495999999998], [33.690013, -117.90787], [33.781607, -78.988911], [28.14552, -81.45895300000002], [33.728815999999995, -117.383285], [44.862231, -93.23446], [34.0366, -118.37637], [44.951146, -93.116121], [41.001201, -73.652397], [39.365065, -77.387628], [33.688, -117.90769], [41.47083, -81.17112900000002], [34.41251, -118.57831000000002], [45.463565, -122.698931], [33.735594, -117.81856100000002], [37.68211, -122.38923], [29.71932, -95.496798], [40.79426, -74.058193], [25.89817, -80.161014], [34.035340000000005, -118.32982], [30.476719, -91.16726], [44.858213, -94.32831], [33.932909, -118.279943], [37.50728, -77.612381], [36.97853, -87.86410500000002], [33.886309999999995, -84.26677], [36.948551, -120.047973], [36.808323, -119.808308], [40.81826, -74.1164], [25.73589, -80.319411], [40.82369, -73.01578], [33.108555, -117.094291], [32.826536, -117.11753], [42.991715, -83.683376], [32.290076, -110.978304], [40.748708, -74.060891], [27.936842, -82.29381500000002], [28.3459, -81.532774], [38.294063, -121.314107], [37.066263, -76.428065], [25.900063, -80.324455], [35.74592, -78.59324000000002], [37.300045, -122.031317], [39.014383, -77.059299], [40.73659, -73.92936999999998], [40.25995, -74.717016], [35.197094, -113.895703], [30.341251, -81.668182], [34.995546999999995, -118.942697], [41.09738, -92.40997], [25.806401, -80.321012], [39.92169000000001, -74.94755], [32.5521, -93.63467], [28.25867, -82.65077], [35.026036, -81.36460699999998], [30.43579, -84.35295699999998], [34.067838, -117.403173], [42.907007, -83.65010600000002], [28.61441, -81.414997], [40.699833, -111.795039], [40.21025, -76.87838599999998], [34.342274, -118.505506], [37.89722, -122.080303], [39.08428, -78.212946], [39.77274600000001, -78.200088], [36.839894, -119.700154], [34.152017, -118.128161], [37.874444, -122.306292], [25.714343, -80.41640100000002], [33.997268, -118.069225], [44.93248, -123.14003], [37.689982, -122.136787], [25.889423, -80.16140899999998], [31.769574, -106.476756], [30.349948, -97.518789], [39.80186, -110.93841], [34.135466, -117.965352], [33.574918, -111.925549], [39.13861, -112.37042], [39.752886, -86.219091], [28.117686, -82.461782], [42.28437, -122.818297], [33.708511, -117.851876], [36.192086, -86.780265], [30.562098, -81.82769300000002], [33.4308, -84.18581999999998], [33.59088, -117.753514], [34.054493, -118.187463], [43.61423, -123.21571000000002], [37.42854000000001, -121.88513], [37.688119, -122.134411], [27.472875, -82.57540999999998], [33.61872, -111.89146], [44.0955, -123.10731], [37.698413, -121.019378], [37.690474, -122.083395], [37.720457, -122.172182], [35.171479999999995, -111.6657], [33.9501, -84.134], [33.568296000000004, -117.672122], [25.807459, -80.292632], [35.029123, -85.356226], [29.696389, -95.33168], [41.23816, -75.918369], [40.07853400000001, -75.089938], [30.40978, -86.664801], [40.69837, -74.25426999999998], [39.09309, -94.59074], [38.712935, -121.084372], [33.483482, -117.089452], [33.659477, -117.588705], [37.696899, -122.043807], [38.192499, -87.337406], [33.816196999999995, -79.463431], [35.820003, -78.391504], [35.83659, -84.39204699999998], [38.250564, -78.398198], [42.39792, -82.98566], [40.746713, -74.160844], [40.657803, -111.901578], [41.967254, -87.95914], [27.96061, -82.72926], [34.04696, -118.44679], [25.869574, -80.373319], [40.52579, -74.34314], [32.848526, -96.761273], [27.780497, -82.335049], [37.069105, -119.351829], [44.179447, -117.135361], [27.942963, -82.544907], [42.391796, -83.217824], [43.15194, -77.62893000000003], [33.779171000000005, -118.207086], [25.685217, -80.41773], [43.222932, -88.15886400000002], [34.025741, -81.09943100000002], [42.027736, -91.695767], [25.63635, -80.335977], [26.12938, -80.21771], [41.46051, -81.69436999999998], [35.411501, -119.07445], [42.740875, -84.512436], [33.842559, -118.299221], [38.81619600000001, -76.91577099999998], [32.36142, -86.16739100000002], [34.00293, -118.411254], [39.908685, -74.939829], [27.514788, -81.494224], [41.775066, -70.002573], [45.01004, -93.196645], [39.40142, -76.94166], [25.680928, -80.35732800000002], [40.702068, -87.066069], [43.083153, -76.438525], [41.84441, -87.96356], [41.132951, -112.02605], [41.789272, -72.56433], [29.973774, -90.054786], [30.28142, -82.050586], [42.364086, -87.978216], [34.267097, -119.27078600000002], [29.968446000000004, -90.058337], [34.066379, -117.471245], [33.604294, -81.84927900000002], [25.888473, -80.32400799999998], [44.521808, -118.300781], [38.020173, -122.264667], [34.0252, -117.11476], [44.41076, -95.12765], [34.137283000000004, -118.47119], [33.873616, -118.235956], [33.932429, -79.61236], [39.299274, -76.952814], [37.819047, -121.916653], [32.837109000000005, -97.034726], [34.613868, -80.685087], [34.321909999999995, -118.497579], [28.551117, -81.592725], [25.926019, -80.30954799999998], [40.709751, -80.31594], [38.900851, -121.073861], [34.03045, -117.60645], [33.18975, -117.361654], [32.921262, -96.848712], [37.977649, -122.293584], [38.270662, -122.667987], [38.025645, -122.112017], [47.86092, -94.80737], [44.432869, -71.950902], [27.07219000000001, -80.246983], [40.72736, -73.44423], [32.787333000000004, -117.206944], [42.762426, -73.763118], [37.14342, -121.984859], [35.42510700000001, -120.60425], [33.862319, -118.199297], [47.039564, -122.871093], [40.836719, -74.12507099999998], [30.421284000000004, -91.12477], [34.088383, -117.30202], [28.789401, -81.34729499999997], [25.686611, -80.379635], [40.050262, -76.256457], [36.05582800000001, -84.004604], [33.84197, -84.24764], [40.728367, -74.127126], [45.12482, -93.21323], [35.23885300000001, -118.860521], [47.43989000000001, -122.268559], [33.43948, -111.89154], [39.649007, -84.23312800000002], [41.172541, -73.19006999999998], [45.253521, -121.176671], [28.019197, -82.259587], [28.401562, -81.42499000000002], [28.640985, -81.442778], [34.11853, -117.84169], [44.894055, -122.932614], [37.994501, -121.773974], [34.323448, -119.099639], [36.988768, -120.091906], [40.044108, -75.661676], [25.905412, -80.158926], [33.87625, -117.66029], [34.545278, -117.300894], [40.69989, -111.898563], [41.31574000000001, -82.06974], [45.056787, -120.683494], [43.861874, -116.773434], [39.007102, -77.086105], [34.401594, -119.517656], [39.69706, -86.18261], [38.836098, -121.488198], [33.214511, -117.244926], [25.937175, -80.27730799999998], [36.140836, -86.718487], [34.17413, -118.84971000000002], [38.770747, -76.99545400000002], [41.42662, -122.399416], [43.61734000000001, -72.9739], [38.507857, -121.448471], [40.266426, -123.870366], [40.580055, -75.706355], [40.400945, -75.494228], [34.135519, -117.982681], [44.89873, -93.134053], [27.756842, -82.636954], [38.304385, -77.510891], [34.95453, -81.967842], [35.064285, -81.77328299999998], [44.86031, -93.37188], [33.938064000000004, -118.094424], [38.604051, -122.851705], [33.95323, -117.303871], [25.846146, -80.240804], [28.564201, -81.16557], [36.14892, -86.777336], [25.869628, -80.242642], [34.029852000000005, -118.017924], [43.209859, -77.69594000000002], [38.74385, -121.219723], [45.687614, -118.91834], [34.0273, -118.45763], [39.040145, -76.904728], [39.581624, -119.83181100000002], [28.404282, -80.705598], [34.506479, -117.450992], [35.03264, -85.17364], [32.36716, -86.13826999999998], [34.637397, -82.350992], [44.77456, -88.56839000000002], [43.03212, -87.96091], [29.266936, -82.180805], [26.088505, -80.209518], [33.69845, -117.86138], [39.365065, -77.400047], [36.13979000000001, -86.82274], [29.481990000000003, -95.39958], [38.695351, -122.016094], [36.19185, -86.7802], [38.88606, -121.34008], [25.885281, -80.122764], [36.92553, -76.31740699999997], [33.855885, -118.010433], [39.59869000000001, -75.9572], [25.761796, -80.33909200000002], [45.81126, -120.80754], [40.809989, -73.902385], [34.995863, -81.918438], [35.318133, -80.778299], [41.85324, -73.88661], [27.935155, -82.79588299999998], [34.067657000000004, -117.579959], [43.38944, -123.337315], [25.730495, -80.335622], [44.131949, -92.417402], [34.760226, -86.612126], [28.492772, -81.39675600000002], [34.686947, -86.00330600000002], [45.394887, -118.328401], [37.187633, -77.35691], [37.767555, -121.730704], [29.714447, -81.499624], [40.732959, -74.27038], [39.30517, -76.74906999999997], [35.419708, -119.01286], [35.205277, -80.7178], [38.610006, -121.41756399999998], [34.222378000000006, -119.136183], [38.154706, -121.675469], [27.8049, -82.63865600000003], [35.782016, -78.903705], [34.071690000000004, -118.13224], [25.712492, -80.300933], [44.030016, -92.488135], [33.869679999999995, -117.671545], [43.83162100000001, -120.668453], [34.31833, -118.442414], [33.429105, -117.612332], [34.221364, -118.473097], [38.37326, -81.60642], [34.007908, -80.985011], [34.178707, -118.310989], [33.896054, -118.046681], [38.538247, -121.47363], [28.214478000000003, -82.371034], [38.689608, -77.38824100000002], [38.98689, -77.15825], [35.398453, -82.505317], [39.83974600000001, -75.671672], [39.9531, -82.998859], [42.40477, -83.14644], [26.124919, -80.358799], [33.87438, -118.18618], [40.976059, -76.42883], [34.238733, -118.41583], [26.27754, -81.74291], [40.827337, -72.947019], [34.152212, -118.272288], [40.665043, -73.818099], [25.87626, -80.215734], [34.12078, -117.873822], [45.703779, -121.619993], [42.725955, -84.529028], [37.63875, -120.81574], [34.139804, -117.953842], [33.786338, -84.390803], [26.52806, -80.16403000000003], [40.435057, -79.867639], [28.60772, -81.388669], [41.786619, -88.060328], [29.60019, -95.24753], [36.268605, -121.379913], [34.616431, -118.16326], [39.18023, -84.39678], [45.704282, -121.618151], [35.24771, -80.80458], [33.98561, -117.3457], [45.571292, -95.991764], [44.920229, -122.99007], [41.983679, -76.543688], [44.953252, -93.459416], [45.52868, -122.66533], [39.689907, -76.529831], [30.248893, -84.369956], [47.80485, -122.136821], [30.325087, -97.675098], [43.2758, -121.77395], [33.974687, -118.242784], [34.189453, -117.358884], [32.876704, -96.81016], [34.818991, -82.276658], [43.19201, -89.411373], [41.59324, -93.729761], [35.443994, -118.944486], [39.108806, -76.880496], [39.973654, -111.338062], [34.06357, -117.81771], [30.404236, -86.616132], [32.071682, -81.247384], [40.782719, -73.585427], [47.174708, -122.467902], [26.653061, -80.069224], [25.91106, -80.22974599999998], [33.748054, -117.843027], [25.64502, -80.40287], [34.066406, -81.037386], [25.882637, -80.25867099999998], [42.760338, -73.931974], [34.018179, -117.983673], [31.75608, -106.2741], [32.731631, -117.111143], [44.95345, -93.08335], [38.452167, -120.528564], [28.523066, -81.30892800000002], [37.34696, -121.85889], [42.273253, -88.00402], [38.595165, -121.444301], [27.79197000000001, -82.66313000000002], [40.679847, -77.412386], [45.13059000000001, -93.4883], [33.81896500000001, -84.361912], [38.98667800000001, -121.284075], [33.80707, -118.151911], [25.9272, -80.22428000000002], [34.067207, -117.55806499999998], [32.476456, -93.797237], [29.79, -95.3719], [42.927808, -85.681696], [25.905851, -80.210044], [35.169489, -120.692253], [40.80998, -73.15420999999998], [34.072, -118.108098], [39.03555, -94.50035], [41.178334, -73.175865], [39.76452000000001, -105.1433], [40.90176, -74.13091], [45.04058, -93.40071], [32.799988, -97.320683], [38.589033, -121.446598], [39.766312, -123.543695], [38.64751, -121.3608], [43.310755, -124.208994], [40.601576, -74.060194], [40.41975, -80.05126], [44.153591, -122.315093], [32.350734, -90.153433], [34.22388, -118.37219], [33.736406, -117.994505], [40.827953, -73.83381999999997], [34.175535, -82.02231], [44.939779, -122.99042], [36.318966, -119.670263], [36.437692, -121.346386], [37.839328, -121.166957], [42.08822, -76.275677], [35.21895, -80.65101], [34.044195, -118.170865], [38.348541, -119.361922], [28.566683, -81.20542900000002], [25.76828900000001, -80.37700799999998], [33.901686, -117.64685], [32.605540000000005, -97.32037], [34.098859999999995, -81.1721], [40.693856, -73.99918100000002], [33.833157, -117.876232], [34.219424, -119.225077], [34.185562, -118.317908], [38.883264, -77.01293199999998], [42.5165, -83.66037], [34.250406, -79.817337], [34.081458000000005, -117.481576], [34.587309999999995, -79.124103], [33.824459999999995, -118.29035], [36.3286, -119.547182], [33.937732000000004, -118.046413], [42.338858, -83.121055], [37.694052, -122.129099], [30.577975, -91.211645], [30.11539, -97.69509], [44.966522, -93.272709], [34.64915, -120.309087], [38.01335, -122.09093], [34.185562, -118.317908], [37.711958, -121.71653700000002], [33.782297, -78.989548], [33.07203, -96.68787], [32.488365, -93.704163], [38.879467, -77.032173], [33.686152, -84.499872], [45.68761, -92.99039], [29.252225, -81.114474], [41.82599, -88.20221], [34.13944, -118.01561], [36.005748, -80.446797], [41.344678, -96.01304], [35.377382, -82.478474], [37.064641, -79.34206999999998], [28.47258900000001, -81.39546899999998], [45.395261, -94.02563], [33.620470000000005, -117.822715], [40.7624, -74.215251], [41.79272, -88.03786], [34.10375, -117.98352], [39.029884, -76.947417], [41.24963, -74.03905999999998], [33.73559, -117.81832], [45.058611, -93.028289], [30.031505, -89.990093], [34.093655, -118.206335], [44.66677, -117.61817], [34.433856, -80.124794], [25.702496, -80.33094799999998], [34.1935, -79.84451], [43.04498, -87.92618], [35.147845000000004, -80.828613], [30.562151, -88.198789], [45.661948, -121.895757], [42.406743, -83.162287], [32.907459, -96.906958], [33.054679, -111.79313700000002], [25.86733, -80.209856], [37.78111, -122.17396], [39.2203, -121.055034], [40.219134, -75.246267], [29.59822, -95.38163], [45.507929, -122.722071], [35.606828, -83.00895], [37.676121, -122.118631], [37.901941, -122.07045], [44.42534000000001, -92.87814], [39.420713, -76.67204699999998], [33.531128, -117.168513], [32.346407, -95.289901], [33.876095, -118.122459], [33.69565, -117.93471], [34.154858000000004, -118.310865], [42.05842, -88.29512], [25.712548, -80.382427], [39.23141500000001, -77.284451], [34.004369, -117.403968], [34.047075, -81.10254], [32.876020000000004, -117.214143], [44.964236, -93.236033], [34.09667, -117.30202], [39.61548, -86.47404], [33.9321, -118.09066], [44.86229, -93.2231], [44.082716, -117.015756], [38.121453, -121.400417], [27.38891, -82.448593], [37.89113, -122.06091200000002], [41.107488, -73.71251600000002], [34.297783, -83.407022], [33.034014, -80.199523], [38.612496, -121.38306], [34.084151, -117.692354], [36.176465, -86.80070699999996], [42.97595, -77.844737], [37.5415, -122.28527], [29.600011, -95.347605], [28.80731, -81.534155], [34.02763, -117.571531], [36.766144, -77.47795699999998], [38.256307, -120.348891], [33.887443, -118.028877], [32.84138, -117.1745], [45.762702, -120.12839], [34.40025, -119.29977], [33.742962, -117.189213], [29.013821000000004, -81.0899], [33.855062, -117.976248], [32.81476, -96.64493], [35.042105, -81.82163299999998], [34.064296, -117.810084], [25.67081, -80.362747], [25.793366, -80.321538], [32.89490900000001, -96.7109], [38.439626, -91.012298], [25.687224, -80.400952], [32.185108, -110.944311], [38.68858, -77.61891999999997], [40.080436, -76.718241], [34.9841, -81.97334000000002], [44.940762, -93.34805], [42.87548, -78.86303000000002], [32.66142, -117.07806], [28.64018, -81.387597], [27.444413, -82.505385], [41.32555, -82.53363], [33.312555, -85.14527199999998], [38.024892, -121.36078], [45.010196, -93.156662], [33.88556, -117.549694], [29.81212, -95.335031], [34.152472, -118.121298], [38.816068, -78.66464], [42.458338, -122.818311], [40.21236, -74.7561], [34.008223, -113.111478], [36.056954, -79.711577], [39.312697, -75.598951], [29.709776, -95.400939], [34.01552, -117.34257], [32.990063, -87.78334699999998], [35.085993, -114.59792], [33.66579, -81.11006400000002], [33.839948, -81.08975], [44.84415, -93.53871], [42.04383, -87.82956], [39.018411, -76.96684599999998], [28.504231, -81.33097], [41.6882, -83.64064], [35.02641, -85.36843], [33.92419, -84.35795], [34.235114, -118.472965], [32.79136, -96.74152], [28.552357, -81.451437], [40.872408, -78.21491800000003], [46.529633, -95.407847], [33.58017, -117.6716], [39.628094, -84.200087], [25.98746400000001, -80.16577], [36.518158, -119.68273899999998], [34.90738, -82.3291], [37.13691, -121.005542], [33.984590000000004, -118.072373], [29.93197, -90.08434], [40.435407, -104.992572], [33.13002, -96.659782], [29.815207, -95.376019], [30.353304, -81.668576], [40.331357, -74.274626], [25.883515, -80.214325], [36.874746, -76.197475], [40.794876, -73.510951], [37.21722000000001, -89.54695], [43.206406, -77.67596800000003], [33.467237, -117.698004], [28.4493, -81.477791], [39.097391, -120.949269], [33.427833, -86.82018000000002], [29.78476, -95.66375], [42.34111, -71.26517], [29.68873, -82.393264], [33.93099, -118.380746], [37.653475, -77.621123], [34.82374, -82.43149], [33.936311, -117.892916], [45.502914, -94.23569], [34.068534, -118.15127], [40.216344, -78.274937], [43.78027, -95.59328], [34.0872, -118.23411000000002], [30.363999, -91.126038], [37.137442, -76.51930300000002], [40.65985300000001, -75.05735899999998], [45.30737, -122.769073], [35.390342, -84.722646], [33.98819, -118.061471], [37.901891, -121.285743], [32.728057, -117.069297], [44.770216, -123.023367], [28.472439, -81.40776600000002], [33.7901, -84.39083000000002], [36.738737, -119.808333], [32.694544, -117.129566], [38.649748, -121.06901299999998], [45.03597, -92.846712], [33.978406, -117.338265], [40.763011, -74.022787], [38.07553, -122.54185], [43.990543, -123.006187], [44.97708, -93.20276], [37.869206, -122.044328], [33.941413, -117.555459], [33.197932, -117.376091], [37.565876, -112.04758], [40.75777, -73.73823], [38.476258, -121.419827], [26.330438, -81.817649], [32.747383, -96.763694], [40.860031, -73.915253], [43.06445, -85.57991], [37.50492, -121.96424], [40.066787, -106.115389], [34.02853, -81.12489000000002], [26.188228, -80.152108], [40.72292, -74.17657], [35.20395, -80.75036999999998], [25.733235, -80.33337], [42.327822, -83.443146], [40.52867, -74.35183], [38.108905, -122.508585], [45.59436, -118.52488], [29.881776, -95.301979], [33.937, -118.279674], [39.305423, -76.89375], [28.933069, -82.00050300000002], [35.81848, -78.68892], [25.928257, -80.20611600000002], [38.464797, -77.406803], [25.68619, -80.430098], [41.80555, -72.65983], [34.829572, -82.438007], [45.472916, -122.786689], [29.737416, -95.623748], [39.74925, -86.14311], [43.146081, -77.592881], [30.38066, -81.67347], [34.380915, -82.149017], [25.920192, -80.244365], [36.225011, -95.996103], [39.149102, -77.217], [44.780163, -68.821269], [34.050458, -117.303623], [34.02468, -117.73701], [39.71693, -75.55739], [36.123348, -86.84984399999998], [34.324188, -118.501557], [40.78435, -73.94199], [26.033157, -80.16422299999998], [26.153265, -81.447283], [37.213205, -93.431782], [26.166633, -80.159758], [42.359608, -87.837965], [41.85984000000001, -88.02702], [37.39019, -121.9923], [39.097927, -75.959311], [40.888957, -73.09679200000002], [41.81334, -83.44715], [33.806335, -78.717591], [41.23582, -122.269967], [25.809446, -80.312034], [37.732607, -120.959386], [34.843984000000006, -82.43015600000003], [29.940841, -90.039151], [36.134272, -86.77556700000002], [45.16347, -93.031129], [33.942443, -83.563052], [37.43304000000001, -122.24069], [37.82470900000001, -122.27042], [38.65622800000001, -76.876085], [33.951609000000005, -84.51621], [37.631381, -122.42296], [28.467101, -81.330761], [32.326957, -86.27958100000002], [40.279048, -109.061481], [40.566286, -80.231093], [41.69509, -92.511683], [33.993332, -84.08025500000002], [37.789947, -121.294828], [43.092177, -73.751336], [34.119395000000004, -118.160547], [34.281195000000004, -118.175307], [38.77238, -90.30367], [30.473963, -87.223877], [25.890558, -80.371803], [42.331577, -83.08564], [25.708698, -80.285617], [33.4682, -112.195946], [38.475758, -121.419841], [33.776165, -84.595549], [30.4087, -88.757568], [35.216681, -80.85558], [25.700509, -80.398513], [40.305785, -75.894764], [27.733529, -82.679198], [25.739256, -80.239538], [28.450948, -81.38416099999998], [41.80275200000001, -123.019036], [34.021581, -118.477009], [38.331897, -77.498862], [32.921551, -86.795908], [26.632994, -80.068219], [39.982461, -76.705601], [28.337640000000004, -81.39704], [37.42365, -121.92211], [40.547987, -74.291004], [33.602885, -112.290368], [38.593545, -121.283362], [41.167295, -73.229968], [38.783398, -77.665908], [29.57621, -82.969662], [34.023789, -118.242577], [32.800126, -96.822272], [33.844972, -118.268763], [28.0545, -82.32943], [34.140844, -80.913516], [38.79302, -77.334137], [38.854549, -121.543131], [25.734914, -80.33587299999998], [36.518172, -119.692715], [34.843340999999995, -82.362481], [25.881633, -80.24296700000002], [35.789899, -78.673114], [32.647965, -117.06138], [25.806911, -80.31311600000002], [38.384867, -122.716094], [25.884206, -80.384147], [33.75761, -78.96731], [38.820542, -77.46464499999998], [40.043846, -75.002599], [45.191561, -95.008522], [29.786837, -95.187026], [27.940781, -82.354421], [36.155519, -86.779957], [33.969339, -118.059576], [40.547741, -111.420116], [39.49449, -77.5654], [35.851959, -78.558323], [44.661022, -118.291565], [32.637451, -97.321432], [29.965174, -90.117063], [34.159196, -80.949083], [34.137221999999994, -80.955797], [34.889671, -82.169379], [33.97688, -118.07915], [42.433136, -87.913659], [45.354976, -122.62159], [36.845301, -76.264246], [25.717694, -80.367029], [37.615155, -77.444689], [32.841608, -117.126949], [34.134424, -117.956997], [42.40054, -83.07091], [32.412801, -80.651638], [44.97634, -93.20105], [47.17987, -95.90167], [29.996553, -90.07944], [38.066242, -122.225636], [34.23085, -118.39868], [29.222971, -82.098423], [25.62694, -80.393559], [33.73602, -117.99428], [33.435837, -111.919693], [34.118417, -117.841404], [33.928872, -118.289365], [30.344592, -81.668297], [34.104156, -80.954887], [39.938734, -76.690443], [29.613485, -95.439053], [30.436691, -91.167691], [30.223447, -97.953017], [45.881856, -108.314133], [29.197335, -82.184762], [32.741127, -96.830206], [38.774989, -121.26128500000002], [38.524917, -121.442617], [37.584173, -77.47009399999997], [40.98914, -111.90611], [39.579149, -77.878357], [35.053391, -80.84999499999998], [43.166474, -73.714174], [40.562671, -111.898874], [27.791916, -82.336061], [33.932935, -118.036032], [39.94778, -83.03158], [32.503298, -111.26761], [30.447896000000004, -91.164911], [40.047613, -80.660659], [25.889347, -80.186409], [34.28097, -118.39985], [27.860164, -82.383756], [37.833212, -122.294665], [34.713758, -82.388446], [37.38581, -79.90564], [38.80103, -77.208865], [40.009807, -75.461189], [36.280235, -119.81212], [40.856105, -115.852214], [34.0122, -118.4186], [25.703314, -80.290734], [43.60495, -116.350723], [33.847402, -79.768936], [44.901348, -93.065493], [35.421971, -118.949114], [27.211189, -80.40029799999998], [33.992823, -117.718601], [39.87475900000001, -75.096627], [37.6764, -122.1098], [38.803035, -77.146819], [35.38339000000001, -119.005655], [34.680106, -92.405682], [37.562089, -120.84703], [37.93506, -122.51654], [39.539879, -119.733872], [35.87420200000001, -78.692047], [40.739997, -73.78961899999999], [33.86139, -118.28481], [39.82701, -75.43441], [36.696204, -76.71337], [38.706582, -77.223147], [25.533893, -80.478015], [35.144625, -80.927749], [35.23823, -80.89848], [34.267242, -118.441857], [27.447389, -82.534132], [25.686246, -80.416687], [37.77129, -122.40853], [30.43979, -91.20301], [34.86834, -110.15993], [28.013114, -82.454818], [29.088124, -82.08096], [40.16364, -75.48588000000002], [37.014153, -120.92883700000002], [38.663041, -121.355152], [32.71283, -97.32072], [28.325625, -82.685135], [47.57856, -122.21085], [33.818083, -117.876166], [27.446316, -82.50901400000002], [25.904321, -80.24255500000002], [30.419591, -91.187432], [37.556553, -120.915255], [25.685824, -80.403789], [33.781059, -84.24472], [38.901648, -77.44913000000003], [39.01676, -120.98637], [25.760878, -80.419588], [39.50696, -104.87279], [33.78948, -117.887874], [39.307742, -120.136718], [39.562364, -104.926217], [46.962722, -94.219812], [34.26838, -118.43548], [45.20383, -122.768199], [40.257897, -76.810885], [35.968927, -79.056984], [34.139774, -117.323991], [34.088946, -118.208442], [33.282791, -111.81306399999998], [34.034303, -118.384841], [40.743001, -73.775478], [39.130791, -76.738834], [45.786842, -95.716849], [41.141705, -74.17321899999997], [35.20702, -84.87092], [41.0204, -111.49296], [34.619996, -86.56725], [33.378231, -111.981073], [42.916022, -85.666134], [37.346209, -122.270289], [33.50125, -81.875443], [32.36142, -86.16739100000002], [34.131764000000004, -117.681738], [32.82682, -117.165567], [28.357046, -80.70124200000002], [45.496253, -122.770545], [37.830694, -121.28863], [33.977783, -87.75101], [34.903467, -82.46143599999998], [25.92668, -80.23285], [37.696355, -120.921671], [39.68085, -86.3388], [39.800666, -86.049417], [35.37339, -89.46348], [28.051587, -82.738801], [40.495038, -79.462298], [45.53922, -122.67044], [42.39546, -122.322731], [32.4332, -93.745987], [28.553154, -81.375148], [34.987983, -85.148059], [39.420682, -76.64461999999997], [33.330764, -81.022054], [33.976351, -118.386913], [45.38277100000001, -92.712743], [33.881825, -117.268184], [42.954751, -78.59184599999998], [39.106365, -94.57334], [35.43512, -97.56559], [34.296461, -83.410609], [27.270415000000003, -82.497665], [34.023038, -117.55827], [42.139892, -88.496312], [38.72307, -77.1202], [45.34985, -94.82473], [37.336563, -121.857256], [36.832548, -76.116662], [41.82172, -71.42016], [40.714384, -73.975241], [40.33856, -80.01781], [35.147867, -120.589661], [39.004093, -93.849259], [33.91716, -118.07832], [28.496393, -81.39693100000002], [37.300798, -79.352703], [39.78338, -105.00958], [25.890143, -80.189184], [33.936846, -84.497552], [43.650561, -121.519983], [37.399704, -122.03165], [34.143591, -118.141384], [36.416536, -119.804135], [44.987264, -93.088949], [44.95165, -93.12154], [34.560109999999995, -82.3253], [34.011075, -118.280745], [44.786678, -117.811468], [32.732785, -97.392379], [27.755752, -82.676675], [44.24765, -120.99761], [39.35653, -106.05986], [35.036492, -85.284237], [39.566323, -107.234004], [40.71756, -111.83626], [40.12788, -75.1303], [41.53925200000001, -72.97199599999998], [35.78774, -78.87083], [45.175486, -122.856034], [33.933767, -118.352469], [43.15979, -123.36538], [35.64510900000001, -86.893647], [38.784134, -90.354654], [26.33728, -80.07342], [38.880876, -77.221376], [45.498923, -122.56471], [38.198915, -122.16047], [37.248154, -76.702309], [40.708362, -111.90396], [40.72107000000001, -73.9747], [34.07306, -117.200851], [25.89995, -80.29213399999998], [44.776936, -93.278012], [33.769376, -80.973895], [41.224941, -95.951853], [37.20276, -76.57164], [42.9717, -85.6654], [33.77411, -84.333238], [34.037236, -118.308889], [37.780172, -120.854819], [39.37989, -77.40812], [36.107495, -86.72529200000002], [39.10452, -77.64833], [33.6746, -117.31874], [25.881657, -80.35433499999998], [28.10347, -81.94696], [35.030005, -82.352165], [32.854839, -117.11491200000002], [41.437223, -77.280439], [37.701348, -121.770221], [40.7259, -112.0187], [33.937964, -118.09816], [40.659422, -74.002238], [40.695786, -74.267131], [34.068179, -117.848822], [27.337941, -82.446626], [33.641593, -117.119095], [39.74327, -104.98611], [38.57017000000001, -75.56275], [32.944296, -117.108303], [39.87537, -75.04983], [40.30656, -78.28227700000002], [37.421143, -122.092497], [37.69813, -121.94081], [39.923683, -86.22395300000002], [33.418917, -86.672151], [39.73812, -105.02528], [40.813482, -73.107686], [34.84669, -92.149275], [34.773756, -92.261735], [33.59861, -111.98039], [42.373427, -87.96339], [32.720141, -96.810876], [34.03338, -118.114625], [39.75642, -84.20330600000001], [43.035913, -77.709738], [40.898067, -74.24674399999998], [33.721779, -80.83120500000003], [34.053031, -118.23398600000002], [33.69845, -117.86138], [40.75552, -111.58734], [36.921802, -76.278941], [25.922925, -80.15463100000002], [40.71727, -73.94898], [34.470632, -82.670118], [46.581741, -92.584973], [39.270805, -123.242556], [34.01851, -117.51908799999998], [29.69946, -95.51889], [25.846986, -80.211189], [25.80725, -80.30126800000002], [25.910063, -80.210076], [40.7327, -74.11912], [33.69193, -117.9249], [36.851346, -120.055873], [33.46717, -94.043099], [35.158188, -80.790532], [34.0223, -118.27733], [37.699117, -121.93013], [30.50236, -87.26715300000002], [43.121194, -75.405651], [42.809438, -71.49859599999998], [28.512987, -81.37544], [41.24945, -76.739775], [34.913209, -80.981737], [30.382682, -97.736583], [34.0652, -118.00005], [44.933599, -93.274773], [38.443559, -121.404207], [30.247888, -89.763193], [41.71777, -83.50206999999997], [30.3959, -86.592732], [45.52868, -122.66533], [30.427068, -91.137055], [28.571322, -81.374015], [46.77825, -122.91698999999998], [33.914019, -118.104678], [37.736331, -113.044606], [42.427922, -87.948464], [41.746262, -87.853249], [45.59226, -122.68275], [34.153779, -118.311413], [26.00011, -80.166792], [34.661639, -79.028537], [33.90442, -84.238561], [30.519298, -90.997265], [32.718454, -96.759048], [43.953638, -121.348995], [41.57784, -87.5757], [41.297549, -73.937997], [37.653904, -77.611238], [28.48685, -81.41734], [38.809987, -77.343417], [44.816161, -93.602582], [40.300334, -75.369805], [25.925896, -80.188148], [39.02247, -94.78532], [34.074442, -79.558825], [40.758535, -73.977188], [40.624855, -74.177788], [30.24166, -82.63438000000002], [34.433736, -118.385746], [42.23478400000001, -121.55696100000002], [37.6742, -122.100482], [34.153766999999995, -118.275389], [25.89281, -80.20962], [30.57203, -87.407461], [32.829192, -97.061103], [27.447334, -82.45903299999998], [37.69266, -97.31545], [45.433219, -122.56646], [30.229321, -81.514016], [39.701783, -86.117355], [32.78864, -96.76414], [38.64661, -121.37679], [33.462148, -112.02443], [45.46338400000001, -122.579033], [33.203339, -87.568721], [37.469626, -77.657135], [25.927404, -80.208067], [26.517475, -81.92965799999998], [38.649333, -94.364908], [38.958641, -94.85309], [33.057643, -87.737974], [34.223975, -83.867565], [36.604331, -121.694923], [42.928755, -112.440489], [39.487999, -76.243275], [33.826374, -118.212589], [29.81212, -95.335031], [35.811376, -78.562214], [34.279090000000004, -118.46878999999998], [39.77841, -104.91289], [38.362352, -120.73436], [35.008538, -85.15321899999998], [25.770064, -80.31330799999998], [42.4877, -83.21249], [38.867624, -77.187285], [34.022461, -118.173949], [44.22579, -93.27707], [37.483726, -121.93501100000002], [29.712536, -95.311192], [37.73799, -122.19428], [34.907411, -82.36939699999998], [33.89202, -118.04371], [41.473647, -73.58061], [43.09365, -89.5193], [33.083728, -80.65096700000002], [43.057106, -123.33581], [40.74066, -113.916637], [33.853735, -117.96303600000002], [34.717029, -86.548651], [39.756063, -83.306962], [41.81002, -88.066022], [36.09256, -80.26531999999997], [38.72921, -121.285659], [38.549586, -77.34318499999998], [33.927690000000005, -118.26762], [28.603859000000003, -81.393467], [39.96005200000001, -75.180269], [28.452939, -81.400159], [25.756027, -80.38632199999998], [45.56844, -122.59853], [30.85119000000001, -89.49634], [34.074169, -117.295623], [25.808906, -80.247462], [29.076237, -82.053534], [39.746076, -84.220098], [38.55031, -121.47382], [45.52245, -122.81575], [34.038533, -81.092668], [34.036084, -118.321241], [45.7462, -119.10798], [35.193589, -80.873207], [45.386764, -122.578443], [34.030188, -117.682573], [45.90013, -92.96664], [45.614164, -117.642682], [33.711626, -117.292678], [34.049890000000005, -83.9302], [27.0502, -82.40623000000002], [34.128808, -118.346897], [33.698051, -117.330823], [40.22536, -76.72469], [30.413844, -91.06767], [35.161103000000004, -85.265176], [28.606189, -81.25546800000002], [39.95725, -75.15711], [36.652253, -76.83776999999998], [40.905592, -73.791781], [28.539125, -81.28726999999998], [40.129218, -75.02489399999997], [40.124094, -123.83212], [28.856669, -82.089843], [37.907718, -122.068708], [34.030495, -118.274537], [45.811316, -119.941084], [25.69688, -80.289124], [42.17918, -88.07778], [38.759218, -77.183686], [25.890186, -80.188322], [34.03568, -118.09821], [35.115429, -90.027732], [25.820466, -80.24879], [40.75242100000001, -74.118865], [27.99584, -82.34877], [42.875076, -71.494117], [42.39790900000001, -122.310928], [40.541642, -74.304624], [45.747896, -119.115732], [35.314282, -79.75956], [40.85933, -74.37424], [40.31611, -75.58706], [34.820533000000005, -81.033407], [27.252283, -80.34831899999998], [42.309382, -87.89242], [44.783374, -93.431907], [29.78372, -95.46021], [44.91732, -122.98896], [38.938946, -92.626042], [33.016636, -80.123306], [39.32363, -76.52839], [41.090184, -73.627057], [39.41729, -76.63054], [42.850638, -72.579489], [30.39675200000001, -90.976988], [32.432109999999994, -93.73645], [25.782843, -80.232446], [42.86065, -85.82709], [28.235842, -80.713296], [27.70447, -82.14613], [37.185234, -121.991414], [28.449998, -81.469791], [42.50931, -83.11514], [39.194099, -76.747972], [39.876727, -76.875967], [38.570649, -121.468241], [25.736808, -80.319627], [43.887709, -85.582176], [36.19102, -86.79885], [35.77569099999999, -78.641975], [44.85936, -93.40998], [40.648646, -75.415077], [33.385806, -111.84735], [39.79794, -104.98667], [46.631697, -114.07858], [35.02641, -85.36843], [40.765846, -73.951604], [40.049575, -74.99414499999997], [32.736415, -96.82372], [44.973961, -93.341377], [38.531446, -121.344046], [41.869722, -93.571404], [40.10961500000001, -75.14475300000002], [39.01562, -77.002], [45.069395, -122.935788], [33.955661, -117.381459], [33.975488, -118.163608], [33.939113, -118.005428], [38.47535300000001, -121.423849], [38.463783, -121.347431], [45.577389, -122.761609], [37.505892, -77.463386], [36.359499, -119.197619], [41.02947, -81.50497], [26.30028, -80.12071999999998], [37.662872, -77.62887099999998], [28.697763, -81.349948], [40.627599, -74.017861], [44.969401, -93.303545], [42.40817, -83.21851], [34.481824, -118.388231], [39.79029, -104.86603], [38.601318, -121.505249], [39.330338, -120.187193], [34.689485, -82.91070400000002], [40.770939, -112.139129], [39.99697000000001, -82.9299], [34.064005, -118.458378], [37.376083, -121.826474], [35.782545, -78.655167], [41.98206, -87.78774], [26.085103, -80.168299], [30.438693, -91.085801], [30.45673, -81.700805], [40.72429, -111.90703], [41.763406, -72.641465], [44.844013, -93.298333], [37.793945, -121.19026], [40.740727, -73.898903], [39.519571, -104.867345], [35.030149, -120.477822], [36.08637, -86.691363], [41.113404, -120.921417], [43.70339600000001, -70.31352199999999], [33.39259000000001, -112.00418], [33.553102, -84.59871700000002], [45.750024, -94.939308], [37.690862, -122.085174], [45.56518, -122.92972], [32.260973, -110.978011], [33.93531, -118.083987], [34.058713, -118.25339], [40.643759, -74.287973], [26.548284, -81.839288], [37.710593, -120.848321], [35.67417899999999, -80.856406], [46.49443, -95.321899], [36.612514, -82.250365], [39.157613, -94.820561], [33.926669, -118.300333], [33.654208000000004, -117.291576], [39.3511, -106.32423], [33.904975, -117.210526], [35.260935, -80.84104], [34.202961, -118.340867], [33.87334, -118.20712], [32.840226, -117.273744], [35.16813, -80.96431], [37.179945, -93.295014], [36.462807, -121.384124], [25.823886, -80.242068], [38.281341, -121.45715], [33.91465, -84.35110999999998], [48.36952, -92.97047], [40.146742, -79.527755], [37.409739, -121.419636], [29.68102, -95.354555], [38.185655, -77.501202], [35.2533, -82.21889], [36.806628, -76.170856], [34.064138, -118.459213], [34.02078, -117.8147], [38.724752, -77.203997], [38.03576500000001, -78.60999], [38.837131, -121.543904], [28.640969, -81.48043299999998], [32.148631, -110.956129], [28.005148, -82.30852900000002], [37.820041, -120.668079], [45.913293, -119.373332], [37.36093, -121.876236], [40.90323, -74.09311], [35.012426, -85.27230899999998], [37.683308, -122.127107], [41.59670300000001, -109.160156], [38.940901, -76.88376], [40.462129, -124.087392], [25.891539, -80.176399], [25.60057, -80.429783], [32.72033, -97.29048], [34.687634, -82.481087], [34.030511, -117.65793899999998], [34.13616, -117.50898], [25.687312, -80.358001], [38.777071, -90.511604], [25.572286, -80.377155], [30.952114, -85.40241800000003], [34.821409, -82.28482199999998], [41.963136, -91.788132], [25.991682, -80.24748000000002], [40.599214, -111.432902], [41.227111, -95.94051], [39.92688, -121.648346], [47.63866, -122.322624], [38.04678, -78.76987], [44.92015, -123.0039], [38.910022, -76.935957], [34.013188, -118.056608], [32.893071, -117.23918700000002], [43.208914, -114.3155], [34.031651000000004, -118.427864], [38.52492, -121.46753], [45.600432, -123.022918], [28.553199, -81.369173], [40.75777, -73.73823], [40.71431, -74.15431], [36.075035, -80.115727], [26.437729, -81.77964], [39.005852, -77.074016], [33.979324, -118.054967], [41.87391, -87.71079], [45.686224, -121.401458], [34.204751, -117.13066], [41.90976, -87.73625], [40.063763, -75.324694], [25.747957, -80.32764399999998], [34.15937, -118.22543], [26.87662000000001, -80.12443], [29.665016, -95.528208], [25.890733, -80.163416], [39.014935, -77.46502199999998], [37.471032, -122.202873], [39.852715, -75.371398], [37.027047, -76.32340500000002], [38.90037, -77.44603000000002], [33.854374, -117.793038], [40.745877, -73.836246], [25.881168, -80.242938], [34.885411, -82.163614], [25.572457, -80.37736600000002], [25.881461, -80.21252199999998], [33.976947, -117.371588], [43.082169, -75.27364399999998], [39.20498, -76.62293299999997], [36.15955, -86.782513], [32.894755, -96.711757], [44.858799, -93.329057], [40.57311, -111.93868], [39.037939, -77.14544000000002], [37.65393, -77.600539], [41.51537, -90.758], [42.93329, -78.78416], [33.853683000000004, -117.911632], [33.930170000000004, -117.88006], [33.841757, -81.58935600000002], [43.63732, -95.36542], [25.685062, -80.422938], [38.01114000000001, -122.172045], [38.640504, -121.356295], [30.509651, -91.14705], [29.686771000000004, -95.53209], [38.596375, -77.31480400000002], [33.897009999999995, -118.10479], [45.237427, -123.151771], [34.338621, -118.507292], [36.799733, -118.197929], [27.811054, -82.756638], [25.813626, -80.32122700000002], [43.268094, -77.402287], [38.876498, -77.277061], [34.05098, -118.261336], [34.152021000000005, -118.143292], [34.402745, -119.524168], [39.23818, -76.7063], [33.561306, -83.49889399999998], [32.443281, -80.995448], [30.470269, -91.152475], [45.228721, -93.623697], [34.030077, -117.698055], [33.883278000000004, -117.542716], [34.071971999999995, -117.396427], [36.678068, -119.751996], [37.670241, -77.44834499999997], [35.129853000000004, -80.914298], [28.064657, -82.73877], [33.930194, -118.368526], [30.647990000000004, -88.12071999999998], [33.176864, -117.36357], [28.064657, -82.73877], [33.732585, -117.989329], [33.519329, -117.621976], [33.798612, -118.085066], [35.017329, -85.196182], [33.68757, -112.03115], [32.806914, -96.791941], [42.40208, -122.93614], [42.08908, -71.22243], [38.632601, -121.079417], [29.88732000000001, -95.41219], [45.011688, -93.054961], [44.962888, -92.958143], [26.511713, -81.785618], [33.293444, -117.193474], [39.55923, -105.005871], [33.805693, -118.081301], [34.145990000000005, -117.189456], [35.36549, -80.82727], [37.42063, -77.63723], [25.881811, -80.226656], [34.068757, -118.042956], [34.896535, -82.45364599999998], [34.733081, -81.202079], [34.067107, -118.409422], [42.48613, -83.275481], [33.89615, -84.36317], [40.666784, -73.836611], [37.570331, -122.515744], [35.097297999999995, -85.327602], [25.676826, -80.41643499999998], [41.272448, -76.451786], [35.767777, -78.577704], [33.889681, -84.262484], [37.783401, -122.221738], [39.905964, -122.148332], [34.048567, -117.396355], [40.224132, -76.88665], [29.970042, -90.04069100000002], [35.02047, -89.90462], [28.89382800000001, -81.686833], [44.88989, -93.28834], [39.012124, -78.363599], [37.321232, -121.834055], [36.013441, -83.85707099999998], [35.842281, -78.682377], [45.51573, -122.69915], [37.690906, -122.079998], [26.610493, -81.811152], [34.019102000000004, -117.339469], [45.47458, -122.56535], [34.081875, -117.200785], [33.208551, -117.388482], [33.975165999999994, -118.280235], [34.303908, -82.54264599999998], [35.441298, -119.084259], [35.93975, -79.47747199999998], [27.996361, -82.533357], [33.549687, -80.407679], [33.73985, -117.83121], [35.763981, -78.631505], [33.061820000000004, -117.29112], [33.65465, -112.13448], [41.531059, -124.041497], [32.236047, -110.862031], [44.629724, -123.07305], [38.688075, -122.010842], [40.540361, -74.29888199999998], [37.333438, -120.851053], [35.24997800000001, -78.34762099999998], [35.24785, -80.89636], [30.36246, -97.695569], [37.821976, -120.261893], [33.569151, -81.805291], [41.63658, -83.49476999999997], [34.911359000000004, -82.052575], [25.947317, -80.151248], [38.759307, -77.217264], [37.45504, -77.389], [27.98167, -82.30229], [34.06989, -118.147966], [32.801226, -96.756407], [39.24481, -76.81515], [33.960692, -117.314227], [39.930054, -75.145895], [33.8445, -117.828531], [41.14435, -75.9631], [33.904113, -82.280754], [45.722953, -123.199726], [33.978612, -118.127715], [41.87455, -87.71018000000002], [36.644672, -121.611953], [39.442417, -77.403901], [32.755378, -117.124861], [44.702633, -95.613508], [40.56622, -74.19373], [29.948561, -90.084325], [30.458661, -87.33493100000004], [46.663259, -92.472727], [34.187323, -81.015654], [35.770057, -119.25098], [41.44393, -74.36435999999998], [36.975163, -121.893085], [28.040789, -80.66064399999998], [40.70033, -73.98528], [43.013588, -115.5526], [28.143199, -82.748365], [30.475694, -87.305617], [25.819938, -80.381786], [36.35964600000001, -82.403542], [37.166556, -122.026707], [33.66894, -112.076557], [28.45151, -81.14481500000002], [32.705616, -96.897088], [38.236859, -122.099661], [37.72, -121.65893], [26.08193, -80.16856], [25.893493, -80.132272], [33.90965, -118.1049], [34.143187, -117.321092], [34.110865000000004, -117.302804], [34.06565, -117.99678], [38.57830300000001, -122.605105], [35.84181500000001, -78.537689], [35.078651, -81.71866800000002], [33.881439, -117.649561], [35.42807, -82.501805], [29.72523, -95.46022], [30.424863, -91.15827], [26.639579, -81.816676], [42.54915, -74.80579], [32.72517, -117.074335], [39.553817, -105.091513], [39.307121, -76.788562], [40.435965, -79.973939], [34.170677000000005, -117.453884], [33.763676000000004, -81.24602], [46.133383, -92.887612], [25.717988, -80.310434], [34.06768, -117.58898], [34.391078, -82.053021], [28.018593, -82.725047], [41.87214, -87.82500999999998], [33.863246000000004, -112.63253600000002], [39.29553, -77.3339], [33.139475, -117.144416], [29.90485, -95.31079], [35.28293499999999, -103.486008], [40.70821, -74.156859], [32.87535, -96.7701], [39.349162, -76.74570600000001], [45.788319, -118.133905], [25.764473, -80.26217199999998], [29.704151, -95.562786], [39.749098, -78.850243], [36.694954, -119.762125], [44.86226, -93.238255], [35.872106, -78.579284], [33.600557, -117.128352], [34.006742, -117.826647], [38.936337, -77.5383], [29.673767, -95.587209], [44.97042800000001, -93.345644], [34.425646, -118.423658], [41.671572, -78.733924], [25.735752, -80.249504], [41.1948, -73.19505], [39.99883, -83.11811], [25.734217, -80.335882], [36.780335, -119.847551], [37.65289, -77.611345], [39.680739, -86.339567], [32.251813, -110.84098600000002], [33.518625, -81.711919], [36.327027, -119.331883], [34.856390999999995, -82.25704], [35.98772800000001, -78.896902], [34.031929, -118.222586], [35.145209, -80.84982], [30.291626, -81.956733], [43.14363400000001, -77.57128], [40.845268, -73.927763], [32.85288, -116.94952], [33.52791, -112.04371], [37.35595, -121.86831], [26.282212, -80.125037], [38.863, -76.99972]],\n",
       "                {&quot;blur&quot;: 15, &quot;maxZoom&quot;: 18, &quot;minOpacity&quot;: 0.5, &quot;radius&quot;: 25}\n",
       "            ).addTo(map_5fe972880212b7d384c68fb23c24f426);\n",
       "        \n",
       "&lt;/script&gt;\" style=\"position:absolute;width:100%;height:100%;left:0;top:0;border:none !important;\" allowfullscreen webkitallowfullscreen mozallowfullscreen></iframe></div></div>"
      ],
      "text/plain": [
       "<folium.folium.Map at 0x1f81c989ec8>"
      ]
     },
     "execution_count": 43,
     "metadata": {},
     "output_type": "execute_result"
    }
   ],
   "source": [
    "map = folium.Map()\n",
    "HeatMap(ziplatlang).add_to(map)\n",
    "map"
   ]
  },
  {
   "cell_type": "code",
   "execution_count": null,
   "metadata": {},
   "outputs": [],
   "source": [
    "# The heatmap shows that coast cities have a high number of accidents while cities in the middle of the\n",
    "#country have the least number of accidents"
   ]
  },
  {
   "cell_type": "code",
   "execution_count": 46,
   "metadata": {},
   "outputs": [
    {
     "ename": "AttributeError",
     "evalue": "'DataFrame' object has no attribute 'Temperature'",
     "output_type": "error",
     "traceback": [
      "\u001b[1;31m---------------------------------------------------------------------------\u001b[0m",
      "\u001b[1;31mAttributeError\u001b[0m                            Traceback (most recent call last)",
      "\u001b[1;32m<ipython-input-46-4d51e29295d7>\u001b[0m in \u001b[0;36m<module>\u001b[1;34m\u001b[0m\n\u001b[1;32m----> 1\u001b[1;33m \u001b[0mus_accidentsdata\u001b[0m\u001b[1;33m.\u001b[0m\u001b[0mTemperature\u001b[0m\u001b[1;33m(\u001b[0m\u001b[0mF\u001b[0m\u001b[1;33m)\u001b[0m\u001b[1;33m\u001b[0m\u001b[1;33m\u001b[0m\u001b[0m\n\u001b[0m",
      "\u001b[1;32mE:\\anaconda\\lib\\site-packages\\pandas\\core\\generic.py\u001b[0m in \u001b[0;36m__getattr__\u001b[1;34m(self, name)\u001b[0m\n\u001b[0;32m   5272\u001b[0m             \u001b[1;32mif\u001b[0m \u001b[0mself\u001b[0m\u001b[1;33m.\u001b[0m\u001b[0m_info_axis\u001b[0m\u001b[1;33m.\u001b[0m\u001b[0m_can_hold_identifiers_and_holds_name\u001b[0m\u001b[1;33m(\u001b[0m\u001b[0mname\u001b[0m\u001b[1;33m)\u001b[0m\u001b[1;33m:\u001b[0m\u001b[1;33m\u001b[0m\u001b[1;33m\u001b[0m\u001b[0m\n\u001b[0;32m   5273\u001b[0m                 \u001b[1;32mreturn\u001b[0m \u001b[0mself\u001b[0m\u001b[1;33m[\u001b[0m\u001b[0mname\u001b[0m\u001b[1;33m]\u001b[0m\u001b[1;33m\u001b[0m\u001b[1;33m\u001b[0m\u001b[0m\n\u001b[1;32m-> 5274\u001b[1;33m             \u001b[1;32mreturn\u001b[0m \u001b[0mobject\u001b[0m\u001b[1;33m.\u001b[0m\u001b[0m__getattribute__\u001b[0m\u001b[1;33m(\u001b[0m\u001b[0mself\u001b[0m\u001b[1;33m,\u001b[0m \u001b[0mname\u001b[0m\u001b[1;33m)\u001b[0m\u001b[1;33m\u001b[0m\u001b[1;33m\u001b[0m\u001b[0m\n\u001b[0m\u001b[0;32m   5275\u001b[0m \u001b[1;33m\u001b[0m\u001b[0m\n\u001b[0;32m   5276\u001b[0m     \u001b[1;32mdef\u001b[0m \u001b[0m__setattr__\u001b[0m\u001b[1;33m(\u001b[0m\u001b[0mself\u001b[0m\u001b[1;33m,\u001b[0m \u001b[0mname\u001b[0m\u001b[1;33m:\u001b[0m \u001b[0mstr\u001b[0m\u001b[1;33m,\u001b[0m \u001b[0mvalue\u001b[0m\u001b[1;33m)\u001b[0m \u001b[1;33m->\u001b[0m \u001b[1;32mNone\u001b[0m\u001b[1;33m:\u001b[0m\u001b[1;33m\u001b[0m\u001b[1;33m\u001b[0m\u001b[0m\n",
      "\u001b[1;31mAttributeError\u001b[0m: 'DataFrame' object has no attribute 'Temperature'"
     ]
    }
   ],
   "source": [
    "us_accidentsdata.Temperature(F)"
   ]
  },
  {
   "cell_type": "code",
   "execution_count": null,
   "metadata": {},
   "outputs": [],
   "source": []
  }
 ],
 "metadata": {
  "kernelspec": {
   "display_name": "Python 3",
   "language": "python",
   "name": "python3"
  },
  "language_info": {
   "codemirror_mode": {
    "name": "ipython",
    "version": 3
   },
   "file_extension": ".py",
   "mimetype": "text/x-python",
   "name": "python",
   "nbconvert_exporter": "python",
   "pygments_lexer": "ipython3",
   "version": "3.7.6"
  }
 },
 "nbformat": 4,
 "nbformat_minor": 4
}
